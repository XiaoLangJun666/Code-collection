{
 "cells": [
  {
   "cell_type": "markdown",
   "metadata": {},
   "source": [
    "# BF527: Applications in Bioinformatics\n",
    "\n",
    ">**Note:** Please submit the Jupyter notebook through Blackboard. Your code should follow the guidelines laid out in class, including commenting. Partial credit will be given for nonfunctional code that is logical and well commented. This assignment must be completed on your own.\n",
    "\n",
    "## Homework 8\n",
    "\n",
    "### See [Blackboard](https://learn.bu.edu) for assignment and due dates\n",
    "\n",
    "---"
   ]
  },
  {
   "cell_type": "markdown",
   "metadata": {},
   "source": [
    "## Problem 8.1 (40%):\n",
    "\n",
    "#### Go to the PDB website and open the page for the structure with PDB ID 3BMP.\n",
    "\n",
    "* Use __Pfam__, Uniprot, Google or Wikipedia to find some information about this protein. How long is the protein? Which superfamily does the protein belong to? What is the protein’s function, and the evolutionary history of the superfamily? What domains and enzymatic properties does the protein have?"
   ]
  },
  {
   "cell_type": "markdown",
   "metadata": {},
   "source": [
    "![evo_history](evo_1.jpg)"
   ]
  },
  {
   "cell_type": "markdown",
   "metadata": {},
   "source": [
    "**How long is the protein?**  \n",
    "The length of the protein is 114 aa.  \n",
    "**Which superfamily does the protein belong to?**  \n",
    "It belongs to TGF-BETA superfamily  \n",
    "**What is the protein’s function, and the evolutionary history of the superfamily?**  \n",
    "It plays essential roles in many developmental processes, including cardiogenesis, neurogenesis, and osteogenesis, induces cartilage and bone.\n",
    "The evolutionary history has been showed above.  \n",
    "TGFβ family receptors are grouped into three types, type I, type II, and type III. There are seven type I receptors, termed the activin-like receptors (ALK1–7), five type II receptors, and one type III receptor, for a total of 13 TGFβ superfamily receptors. In the transduction pathway, ligand-bound type II receptors activate type I receptors by phosphorylation, which then autophosphorylate and bind SMAD. The Type I receptors have a glycine-serine (GS, or TTSGSGSG) repeat motif of around 30 AA, a target of type II activity. At least three, and perhaps four to five of the serines and threonines in the GS domain, must be phosphorylated to fully activate TbetaR-1. (Sourced from Widipeida)\n",
    "\n",
    "**What domains and enzymatic properties does the protein have?**  \n",
    "Here are some domain information about the protein below. For example, we can explain the domain information from the SCOPe: this protein domian is classified as belonging tot he 'small proteins' class, with a specific 'cystine-knot cytokines' fold and superfamily.. Wihtin this, it;s part of the 'Transforming growth factor-beta' family and specifically identified as the Bone morphogenetic protein-2 domain.  \n",
    "For the enzymatic properties, we can find that it's a inhibitor in Enzyme-catalyzed Reactions: down-regulation of enzyme expression in osteoblasts, can be overcome by noggin.\n"
   ]
  },
  {
   "cell_type": "markdown",
   "metadata": {},
   "source": [
    "![domain](domain.jpg)"
   ]
  },
  {
   "cell_type": "markdown",
   "metadata": {},
   "source": [
    "#### Explore the 3D structure of “3BMP” using the \"3D View\" tab on the PDB website.\n",
    "\n",
    "* Generate two informative pictures of this structure by manipulating the various style options (you can fine tune these options through the right-click menu). Include screen shots with your homework submission and explain the biological meaning of the different styles."
   ]
  },
  {
   "cell_type": "markdown",
   "metadata": {},
   "source": [
    "Observing a coarse surface can provide:  It helps in identifying hydrophobic and hydrophilic regions which are crucial for understanding protein-ligand interactions, protein-protein interactions, and the solubility of the protein. And also to reveal potential active sites or ligand-binding pockets of drug molecule or antibody binding site."
   ]
  },
  {
   "cell_type": "markdown",
   "metadata": {},
   "source": [
    "![coarsesurface](coarse_surface.jpg)"
   ]
  },
  {
   "cell_type": "markdown",
   "metadata": {},
   "source": [
    "This displays a protein structure in a molecular viewer, specifically showing the protein in polymers with ligands. The secondary structural elements show in the picture like alpha helices and beta sheets are visible, which helps in understanding the protein's folding and function.The presence and position of the ligands suggest where binding sites are located on the protein. "
   ]
  },
  {
   "cell_type": "markdown",
   "metadata": {},
   "source": [
    "![ligand_polymer](ligand.jpg)"
   ]
  },
  {
   "cell_type": "markdown",
   "metadata": {},
   "source": [
    "#### Use the other information tabs to answer the remaining questions.\n",
    "\n",
    "* There are some “dots” buried in the structure—what do these represent? __Hint: try hovering over them with your pointer.__"
   ]
  },
  {
   "cell_type": "raw",
   "metadata": {},
   "source": [
    "They are water molecules"
   ]
  },
  {
   "cell_type": "markdown",
   "metadata": {},
   "source": [
    "* Describe the secondary structure composition of this protein. Is there a prevalence of one type of secondary structure?"
   ]
  },
  {
   "cell_type": "raw",
   "metadata": {},
   "source": [
    "Based on the picture, we can see that there are  Alpha helices, beta sheets, and random coils. It seems that beta sheets are a significant component of the protein's secondary structure."
   ]
  },
  {
   "cell_type": "markdown",
   "metadata": {},
   "source": [
    "* Does the protein belong to a family recognized by SCOP, CATH, and/or PFam?"
   ]
  },
  {
   "cell_type": "markdown",
   "metadata": {},
   "source": [
    "Yes it belongs to cystine-knot cytokines family which is identified by SCOP, ECOD."
   ]
  },
  {
   "cell_type": "markdown",
   "metadata": {},
   "source": [
    "![domain](domain.jpg)"
   ]
  },
  {
   "cell_type": "markdown",
   "metadata": {},
   "source": [
    "* Is the protein similar to any other human proteins? To what degree?\n",
    "\n",
    "__Hints__: You can download a fasta record from the PDB website. You can restrict blast to only look in the human database."
   ]
  },
  {
   "cell_type": "raw",
   "metadata": {},
   "source": [
    "Yes the protein is similar to some other human proteins like BMP4(E-value:7e-70),BMP6(2e-50)."
   ]
  },
  {
   "cell_type": "markdown",
   "metadata": {},
   "source": [
    "* How was the 3D structure and view of this protein generated?\n",
    "\n",
    "__Hint__: The \"Experiment\" tab on the PDB website has some information that may help here"
   ]
  },
  {
   "cell_type": "raw",
   "metadata": {},
   "source": [
    "The 3D structure of the protein was determined using X-ray diffraction. This method involves crystallizing the protein and then bombarding the crystal with X-rays. The X-rays are diffracted as they pass through the crystal, and the pattern of this diffraction is used to reconstruct the 3D arrangement of atoms within the protein."
   ]
  },
  {
   "cell_type": "markdown",
   "metadata": {},
   "source": [
    "---\n",
    "\n",
    "## Problem 8.2 (60%):\n",
    "\n",
    "__Your task is to write a python script to parse a PDB file__. A typical PDB format file will contain atomic coordinates for proteins, as well as small molecules, ions and water. Each atom is entered as a line of information that starts with a keyword ATOM or HETATM. By tradition, the ATOM keyword is used to identify proteins or nucleic acid atoms, and keyword HETATM is used to identify atoms in small molecules. Following this keyword, there is a list of information about the atom, including its name, its number in the file, the name and number of the residue it belongs to, one letter to specify the chain (in oligomeric proteins), its x, y, and z coordinates. Download the raw data for 3BMP. (__Hint: under “Download files” select \"PDB Format\"__.) Your Python script should do the following things:\n",
    "\n",
    "* Open the 3BMP.pdb file in order to parse it line by line. __Hint__: PDB files can be a little hard to read because the lines will have varied numbers of spaces so that the columns line up exactly in a flat file. If you tried opening the file (in a text editor), you’ll also realize that it has a LOT of different information in it. You are only interested in rows that begin with “ATOM”. The best way to separate individual components of a line is by slicing, e.g. to get just “ATOM” you could use line[0:4]. __Splitting on a variable (e.g. '```\\t```') will not work__.\n",
    "* Amino acids are made of Carbon (C), Nitrogen (N), Sulfur (S), and Oxygen (O). Count the number of C, N, S and O atoms that occur in each amino acid of the protein, including the total number of C, N, S and O atoms in the protein. Compute the frequencies (%) for each atom in each unique amino acid. __Remember__: the keyword for atoms in proteins (instead of small molecules) is ATOM; the HETATM keywords can be ignored. The atomic element is given a one-letter code at the __end of the line__. The PDB file will display the x,y,z coordinates starting at amino acid #9, and continuing to amino acid #114. There will be one line per atom of the amino acid. The question you are trying to answer is, of all the C, N and O atoms in the protein structure, how many are in Alanine, Arginine, etc.\n",
    "\n",
    "Your output should look like:\n",
    "\n",
    "```\n",
    "amino acid  C     N     S     O\n",
    "ARG         0.03  0.08  0.00  0.03\n",
    "ASN         0.05  0.10  0.00  0.09\n",
    "ASP         0.05  0.04  0.00  0.12\n",
    "…etc\n",
    "total:      531   142   9     156\n",
    "```\n"
   ]
  },
  {
   "cell_type": "code",
   "execution_count": 45,
   "metadata": {
    "scrolled": true
   },
   "outputs": [
    {
     "data": {
      "text/plain": [
       "{'C': 531, 'N': 142, 'S': 9, 'O': 156}"
      ]
     },
     "execution_count": 45,
     "metadata": {},
     "output_type": "execute_result"
    }
   ],
   "source": [
    "import pandas as pd\n",
    "#Write your script here\n",
    "# Initialize a dictionary to store the total count of each atom type for each amino acid\n",
    "amino_acid_total={}\n",
    "# Initialize a dictionary to store the total count of each atom type in the entire protein\n",
    "total={'C':0,'N':0,'S':0,'O':0}\n",
    "# Open the PDB file to read line by line\n",
    "with open('3bmp.pdb','r') as file:\n",
    "    for line in file:\n",
    "         # Check if the line starts with 'ATOM' which indicates an atom record\n",
    "        if line.startswith(\"ATOM\"):\n",
    "            atom_type = line[77:78] # Extract the atom type (C, N, S, O)\n",
    "            amino_acid = line[17:20]# Extract the amino acid name\n",
    "            total[atom_type]+=1# Increment the total count for the atom type\n",
    "              # If the amino acid is not in the dictionary, add it with the current atom type\n",
    "            if amino_acid not in amino_acid_total.keys():\n",
    "                amino_acid_total[amino_acid]=atom_type\n",
    "         # If the amino acid is already in the dictionary, append the current atom type\n",
    "            else:\n",
    "                amino_acid_total[amino_acid]+=atom_type\n",
    "            \n"
   ]
  },
  {
   "cell_type": "code",
   "execution_count": 56,
   "metadata": {},
   "outputs": [
    {
     "name": "stdout",
     "output_type": "stream",
     "text": [
      "amino acid\tC\tN\tS\tO\n",
      "ARG\t\t0.03\t0.08\t0.0\t0.03\n",
      "LEU\t\t0.1\t0.06\t0.0\t0.06\n",
      "LYS\t\t0.07\t0.08\t0.0\t0.04\n",
      "SER\t\t0.05\t0.06\t0.0\t0.1\n",
      "CYS\t\t0.04\t0.05\t0.78\t0.04\n",
      "HIS\t\t0.06\t0.11\t0.0\t0.03\n",
      "PRO\t\t0.07\t0.05\t0.0\t0.04\n",
      "TYR\t\t0.08\t0.04\t0.0\t0.06\n",
      "VAL\t\t0.1\t0.08\t0.0\t0.07\n",
      "ASP\t\t0.05\t0.04\t0.0\t0.12\n",
      "PHE\t\t0.05\t0.02\t0.0\t0.02\n",
      "GLY\t\t0.02\t0.04\t0.0\t0.03\n",
      "TRP\t\t0.04\t0.03\t0.0\t0.01\n",
      "ASN\t\t0.05\t0.1\t0.0\t0.09\n",
      "ILE\t\t0.05\t0.03\t0.0\t0.03\n",
      "ALA\t\t0.03\t0.04\t0.0\t0.04\n",
      "GLU\t\t0.05\t0.04\t0.0\t0.11\n",
      "THR\t\t0.02\t0.02\t0.0\t0.04\n",
      "GLN\t\t0.02\t0.03\t0.0\t0.03\n",
      "MET\t\t0.02\t0.01\t0.22\t0.01\n",
      "total:\t\t531\t142\t9\t156\n"
     ]
    }
   ],
   "source": [
    "# Print the headers for the output table\n",
    "print('amino acid','C','N','S','O',sep='\\t')\n",
    "# Iterate over each amino acid to calculate and print the frequencies of each atom type\n",
    "for name in amino_acid_total.keys():\n",
    "    aa_c=round(amino_acid_total[name].count('C')/total[\"C\"],2,)\n",
    "    aa_n=round(amino_acid_total[name].count('N')/total[\"N\"],2)\n",
    "    aa_s=round(amino_acid_total[name].count('S')/total[\"S\"],2)\n",
    "    aa_o=round(amino_acid_total[name].count('O')/total[\"O\"],2)\n",
    "    # Print the amino acid name and the frequencies of C, N, S, O with tab separation\n",
    "    print(name,'',aa_c,aa_n,aa_s,aa_o,sep='\\t')\n",
    "# Print the total counts of each atom type in the entire protein\n",
    "print('total:','',total[\"C\"],total[\"N\"],total[\"S\"],total[\"O\"],sep='\\t')"
   ]
  },
  {
   "cell_type": "markdown",
   "metadata": {},
   "source": [
    "__What does the distribution of frequencies look like? Are there any atoms that are more prevalent in one amino acid or another?__"
   ]
  },
  {
   "cell_type": "raw",
   "metadata": {},
   "source": [
    "Certain amino acids, like CYS (Cysteine), have a higher frequency of sulfur (S) due to the presence of a thiol group.\n",
    "Amino acids like ARG (Arginine), LYS (Lysine), and HIS (Histidine) have higher frequencies of nitrogen (N) which is consistent with their side chains that contain amino groups.\n",
    "The frequencies for oxygen (O) and carbon (C) seem to be more evenly distributed across the amino acids, reflecting the common backbone structure of proteins and the varying side chains that include carbonyls or hydroxyls.\n"
   ]
  }
 ],
 "metadata": {
  "kernelspec": {
   "display_name": "Python 3 (ipykernel)",
   "language": "python",
   "name": "python3"
  },
  "language_info": {
   "codemirror_mode": {
    "name": "ipython",
    "version": 3
   },
   "file_extension": ".py",
   "mimetype": "text/x-python",
   "name": "python",
   "nbconvert_exporter": "python",
   "pygments_lexer": "ipython3",
   "version": "3.9.12"
  }
 },
 "nbformat": 4,
 "nbformat_minor": 1
}
