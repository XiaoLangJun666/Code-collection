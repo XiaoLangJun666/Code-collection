{
 "cells": [
  {
   "cell_type": "markdown",
   "id": "bbc8fff9",
   "metadata": {},
   "source": [
    "# Problem 2.2"
   ]
  },
  {
   "cell_type": "code",
   "execution_count": 8,
   "id": "5361b881",
   "metadata": {
    "scrolled": false
   },
   "outputs": [
    {
     "name": "stdout",
     "output_type": "stream",
     "text": [
      "22\tE\n",
      "0\tI\n",
      "39\tN\n",
      "-6\tS\n",
      "14\tT\n",
      "8\tE\n",
      "30\tI\n",
      "-22\tN\n"
     ]
    }
   ],
   "source": [
    "# initialize the indices and sequence\n",
    "indices = [22, 0, 39, -6, 14, 8, 30, -22]\n",
    "sequence ='IF WE KNEW WHAT WE WERE DOING IT WOULD NOT BE CALLED RESEARCH'\n",
    "\n",
    "#set a for loop to get each index in the indices list.\n",
    "for s in indices:\n",
    "    #print out the index s, and the character that the index point at in the sequence.Using the \\t to seperate the result.\n",
    "    print(s,sequence[int(s)],sep='\\t')"
   ]
  },
  {
   "cell_type": "markdown",
   "id": "08d8ce7e",
   "metadata": {},
   "source": [
    "# problem 2.3"
   ]
  },
  {
   "cell_type": "code",
   "execution_count": 11,
   "id": "d5a4bdba",
   "metadata": {},
   "outputs": [
    {
     "name": "stdout",
     "output_type": "stream",
     "text": [
      "D\tnot hydrophobic\n",
      "E\tnot hydrophobic\n",
      "L\thydrophobic\n",
      "G\tnot hydrophobic\n",
      "C\tnot hydrophobic\n",
      "F\thydrophobic\n",
      "V\thydrophobic\n",
      "G\tnot hydrophobic\n",
      "T\tnot hydrophobic\n",
      "A\thydrophobic\n"
     ]
    }
   ],
   "source": [
    "#initialize the sequence input\n",
    "sequence = 'DELGCFVGTA'\n",
    "\n",
    "#create a list that contain the hydrophobic.\n",
    "hydro=['A','V','I','L','M','F',\"Y\",'W']\n",
    "\n",
    "#create a list that contian all the aminal acid one letter code\n",
    "amino_acid=['A','R','D','N','C','E','Q','G','H','I','L','K','M','F','P','S','T','W','Y','V']\n",
    "\n",
    "\n",
    "#Set a for loop to read through each character in sequence\n",
    "for i in sequence:\n",
    "    #use an if statement to judge whether the input is an amino acid\n",
    "    if i not in amino_acid:\n",
    "        print(i,'It is not a amino acid','sep=\\t')\n",
    "    else:\n",
    "        #use an if statement to judge whether the input is a hydrophobic amino acid\n",
    "        if i in hydro:\n",
    "            #If it is a hydrophobic amino acid print the text below\n",
    "            print(i,'hydrophobic',sep='\\t')\n",
    "        else:\n",
    "            #If not a hydrophobic amino acid print the text below\n",
    "            print(i,'not hydrophobic',sep='\\t')\n",
    "        "
   ]
  }
 ],
 "metadata": {
  "kernelspec": {
   "display_name": "Python 3 (ipykernel)",
   "language": "python",
   "name": "python3"
  },
  "language_info": {
   "codemirror_mode": {
    "name": "ipython",
    "version": 3
   },
   "file_extension": ".py",
   "mimetype": "text/x-python",
   "name": "python",
   "nbconvert_exporter": "python",
   "pygments_lexer": "ipython3",
   "version": "3.9.12"
  }
 },
 "nbformat": 4,
 "nbformat_minor": 5
}
