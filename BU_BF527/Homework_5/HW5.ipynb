{
 "cells": [
  {
   "cell_type": "markdown",
   "metadata": {},
   "source": [
    "# BF527: Applications in Bioinformatics\n",
    "\n",
    ">**Note:** Your code should follow the guidelines laid out in class, including commenting. Partial credit will be given for nonfunctional code that is logical and well commented. This assignment must be completed on your own.\n",
    "\n",
    "## HOMEWORK 5 \n",
    "\n",
    "### See [Blackboard](https://learn.bu.edu) for assignment and due dates\n",
    "\n",
    "---"
   ]
  },
  {
   "cell_type": "markdown",
   "metadata": {},
   "source": [
    "**PROBLEM 5.1 (30%):**\n",
    "\n",
    "In this problem you will be writing a python script to extract information from a **CSV** (**c**omma **s**eparated **v**alues) file. The file is called \"**blast_results.csv**\" and can be downloaded from Blackboard. The file contains the top 100 hits from a BLAST search. You can open up the file in Excel to view the contents:\n",
    "- **Row 1**: the headers describing each field (column).\n",
    "- **Column 2**: this contains the ID for each hit (subject). Note that several hits actually contain multiple IDs corresponding to redundant entries in the NCBI **nr** database. If a hit contains multiple IDs, the IDs are separated by a semi-colon (;).\n",
    "- **Column 13**: this contains the bit score for each hit.\n",
    "\n",
    "Create a script called \"**parse_blast_hits.py**\" or write your code in the box below. This script should do the following:\n",
    "1. Counts the total number of subject IDs in the file.\n",
    ">**Hint:** there is always *at least* 1 ID per line. If there are 2 IDs, there is 1 semi-colon (;) in the subject ID field. If there are 3 IDs, there are 2 semi-colons, etc. You can use the **`count`** function to count the number of semi-colons in a string.\n",
    "\n",
    "2. Calculates the average bit score of the top 100 hits (all the scores in the file).\n",
    ">**Hint:** You can use the **`int(string)`** or **`float(string)`** functions to convert the bit score, which is stored as a string in the file, to a number. You will have to store all the bit scores to be able to later calculate the mean.\n",
    "\n",
    "Your output should look like:"
   ]
  },
  {
   "cell_type": "raw",
   "metadata": {},
   "source": [
    "Total subject IDs: 181\n",
    "Average bit score: 346.53"
   ]
  },
  {
   "cell_type": "code",
   "execution_count": 18,
   "metadata": {},
   "outputs": [
    {
     "name": "stdout",
     "output_type": "stream",
     "text": [
      "Total subject IDs: 181\n",
      "Average bit score: 346.53\n"
     ]
    }
   ],
   "source": [
    "import pandas as pd\n",
    "# Write your code here\n",
    "#Read the csv file that contain the hit information.\n",
    "df=pd.read_csv('blast_results.csv')\n",
    "#Define a funciton count_hit that return the total count\n",
    "def count_hit(data):\n",
    "    #Calculate the count\n",
    "    total_count=0\n",
    "    #Read through each row of subject ids.\n",
    "    for s in data.index:\n",
    "        #split the subject ids using ';', and count the length of the list which indicate the count of subject ids.\n",
    "        total_count+=len(data.loc[s,'subject ids'].split(';'))\n",
    "        #Return the total count\n",
    "    return(total_count)\n",
    "\n",
    "#Define a funciton top_mean_bit_score which accept the data, and the number of top bit score that we want.\n",
    "def top_mean_bit_score(data,num):\n",
    "    #using nlargest function to detect the top n bit score in data.\n",
    "    top_values=data['bit score'].nlargest(num)\n",
    "    #Return the mean value\n",
    "    return (top_values.mean())\n",
    "#Print the results.\n",
    "print('Total subject IDs:',count_hit(df))\n",
    "print('Average bit score:',top_mean_bit_score(df,100))"
   ]
  },
  {
   "cell_type": "markdown",
   "metadata": {},
   "source": [
    "---\n",
    "**PROBLEM 5.2 (40%):**\n",
    "\n",
    "Protein tyrosine kinases are implicated in several forms of cancer. In this problem you will use **ClustalW** to identify the functional tyrosine kinase domain in several proteins.\n",
    ">**Hint:** the domain is about 250 residues long and is well conserved.\n",
    "\n",
    "- **(A)** Gather the protein sequences of the following four human tyrosine kinases from the **UniProt database** (http://www.uniprot.org/). A simple search of “Human” plus the gene symbols (given below) will be enough to find these four proteins. Check that the entry names you select make sense - the first search hit may not be the right one!\n",
    " 1. JAK2\n",
    " 2. SRC\n",
    " 3. EGFR\n",
    " 4. LYN\n",
    " \n",
    ">**Hint:** entries with **Star** are manually annotated and reviewed."
   ]
  },
  {
   "cell_type": "raw",
   "metadata": {},
   "source": [
    ">sp|O60674|JAK2_HUMAN Tyrosine-protein kinase JAK2 OS=Homo sapiens OX=9606 GN=JAK2 PE=1 SV=2\n",
    "MGMACLTMTEMEGTSTSSIYQNGDISGNANSMKQIDPVLQVYLYHSLGKSEADYLTFPSG\n",
    "EYVAEEICIAASKACGITPVYHNMFALMSETERIWYPPNHVFHIDESTRHNVLYRIRFYF\n",
    "PRWYCSGSNRAYRHGISRGAEAPLLDDFVMSYLFAQWRHDFVHGWIKVPVTHETQEECLG\n",
    "MAVLDMMRIAKENDQTPLAIYNSISYKTFLPKCIRAKIQDYHILTRKRIRYRFRRFIQQF\n",
    "SQCKATARNLKLKYLINLETLQSAFYTEKFEVKEPGSGPSGEEIFATIIITGNGGIQWSR\n",
    "GKHKESETLTEQDLQLYCDFPNIIDVSIKQANQEGSNESRVVTIHKQDGKNLEIELSSLR\n",
    "EALSFVSLIDGYYRLTADAHHYLCKEVAPPAVLENIQSNCHGPISMDFAISKLKKAGNQT\n",
    "GLYVLRCSPKDFNKYFLTFAVERENVIEYKHCLITKNENEEYNLSGTKKNFSSLKDLLNC\n",
    "YQMETVRSDNIIFQFTKCCPPKPKDKSNLLVFRTNGVSDVPTSPTLQRPTHMNQMVFHKI\n",
    "RNEDLIFNESLGQGTFTKIFKGVRREVGDYGQLHETEVLLKVLDKAHRNYSESFFEAASM\n",
    "MSKLSHKHLVLNYGVCVCGDENILVQEFVKFGSLDTYLKKNKNCINILWKLEVAKQLAWA\n",
    "MHFLEENTLIHGNVCAKNILLIREEDRKTGNPPFIKLSDPGISITVLPKDILQERIPWVP\n",
    "PECIENPKNLNLATDKWSFGTTLWEICSGGDKPLSALDSQRKLQFYEDRHQLPAPKWAEL\n",
    "ANLINNCMDYEPDFRPSFRAIIRDLNSLFTPDYELLTENDMLPNMRIGALGFSGAFEDRD\n",
    "PTQFEERHLKFLQQLGKGNFGSVEMCRYDPLQDNTGEVVAVKKLQHSTEEHLRDFEREIE\n",
    "ILKSLQHDNIVKYKGVCYSAGRRNLKLIMEYLPYGSLRDYLQKHKERIDHIKLLQYTSQI\n",
    "CKGMEYLGTKRYIHRDLATRNILVENENRVKIGDFGLTKVLPQDKEYYKVKEPGESPIFW\n",
    "YAPESLTESKFSVASDVWSFGVVLYELFTYIEKSKSPPAEFMRMIGNDKQGQMIVFHLIE\n",
    "LLKNNGRLPRPDGCPDEIYMIMTECWNNNVNQRPSFRDLALRVDQIRDNMAG\n",
    ">sp|P00533|EGFR_HUMAN Epidermal growth factor receptor OS=Homo sapiens OX=9606 GN=EGFR PE=1 SV=2\n",
    "MRPSGTAGAALLALLAALCPASRALEEKKVCQGTSNKLTQLGTFEDHFLSLQRMFNNCEV\n",
    "VLGNLEITYVQRNYDLSFLKTIQEVAGYVLIALNTVERIPLENLQIIRGNMYYENSYALA\n",
    "VLSNYDANKTGLKELPMRNLQEILHGAVRFSNNPALCNVESIQWRDIVSSDFLSNMSMDF\n",
    "QNHLGSCQKCDPSCPNGSCWGAGEENCQKLTKIICAQQCSGRCRGKSPSDCCHNQCAAGC\n",
    "TGPRESDCLVCRKFRDEATCKDTCPPLMLYNPTTYQMDVNPEGKYSFGATCVKKCPRNYV\n",
    "VTDHGSCVRACGADSYEMEEDGVRKCKKCEGPCRKVCNGIGIGEFKDSLSINATNIKHFK\n",
    "NCTSISGDLHILPVAFRGDSFTHTPPLDPQELDILKTVKEITGFLLIQAWPENRTDLHAF\n",
    "ENLEIIRGRTKQHGQFSLAVVSLNITSLGLRSLKEISDGDVIISGNKNLCYANTINWKKL\n",
    "FGTSGQKTKIISNRGENSCKATGQVCHALCSPEGCWGPEPRDCVSCRNVSRGRECVDKCN\n",
    "LLEGEPREFVENSECIQCHPECLPQAMNITCTGRGPDNCIQCAHYIDGPHCVKTCPAGVM\n",
    "GENNTLVWKYADAGHVCHLCHPNCTYGCTGPGLEGCPTNGPKIPSIATGMVGALLLLLVV\n",
    "ALGIGLFMRRRHIVRKRTLRRLLQERELVEPLTPSGEAPNQALLRILKETEFKKIKVLGS\n",
    "GAFGTVYKGLWIPEGEKVKIPVAIKELREATSPKANKEILDEAYVMASVDNPHVCRLLGI\n",
    "CLTSTVQLITQLMPFGCLLDYVREHKDNIGSQYLLNWCVQIAKGMNYLEDRRLVHRDLAA\n",
    "RNVLVKTPQHVKITDFGLAKLLGAEEKEYHAEGGKVPIKWMALESILHRIYTHQSDVWSY\n",
    "GVTVWELMTFGSKPYDGIPASEISSILEKGERLPQPPICTIDVYMIMVKCWMIDADSRPK\n",
    "FRELIIEFSKMARDPQRYLVIQGDERMHLPSPTDSNFYRALMDEEDMDDVVDADEYLIPQ\n",
    "QGFFSSPSTSRTPLLSSLSATSNNSTVACIDRNGLQSCPIKEDSFLQRYSSDPTGALTED\n",
    "SIDDTFLPVPEYINQSVPKRPAGSVQNPVYHNQPLNPAPSRDPHYQDPHSTAVGNPEYLN\n",
    "TVQPTCVNSTFDSPAHWAQKGSHQISLDNPDYQQDFFPKEAKPNGIFKGSTAENAEYLRV\n",
    "APQSSEFIGA\n",
    ">sp|P07948|LYN_HUMAN Tyrosine-protein kinase Lyn OS=Homo sapiens OX=9606 GN=LYN PE=1 SV=3\n",
    "MGCIKSKGKDSLSDDGVDLKTQPVRNTERTIYVRDPTSNKQQRPVPESQLLPGQRFQTKD\n",
    "PEEQGDIVVALYPYDGIHPDDLSFKKGEKMKVLEEHGEWWKAKSLLTKKEGFIPSNYVAK\n",
    "LNTLETEEWFFKDITRKDAERQLLAPGNSAGAFLIRESETLKGSFSLSVRDFDPVHGDVI\n",
    "KHYKIRSLDNGGYYISPRITFPCISDMIKHYQKQADGLCRRLEKACISPKPQKPWDKDAW\n",
    "EIPRESIKLVKRLGAGQFGEVWMGYYNNSTKVAVKTLKPGTMSVQAFLEEANLMKTLQHD\n",
    "KLVRLYAVVTREEPIYIITEYMAKGSLLDFLKSDEGGKVLLPKLIDFSAQIAEGMAYIER\n",
    "KNYIHRDLRAANVLVSESLMCKIADFGLARVIEDNEYTAREGAKFPIKWTAPEAINFGCF\n",
    "TIKSDVWSFGILLYEIVTYGKIPYPGRTNADVMTALSQGYRMPRVENCPDELYDIMKMCW\n",
    "KEKAEERPTFDYLQSVLDDFYTATEGQYQQQP\n",
    ">sp|P12931|SRC_HUMAN Proto-oncogene tyrosine-protein kinase Src OS=Homo sapiens OX=9606 GN=SRC PE=1 SV=3\n",
    "MGSNKSKPKDASQRRRSLEPAENVHGAGGGAFPASQTPSKPASADGHRGPSAAFAPAAAE\n",
    "PKLFGGFNSSDTVTSPQRAGPLAGGVTTFVALYDYESRTETDLSFKKGERLQIVNNTEGD\n",
    "WWLAHSLSTGQTGYIPSNYVAPSDSIQAEEWYFGKITRRESERLLLNAENPRGTFLVRES\n",
    "ETTKGAYCLSVSDFDNAKGLNVKHYKIRKLDSGGFYITSRTQFNSLQQLVAYYSKHADGL\n",
    "CHRLTTVCPTSKPQTQGLAKDAWEIPRESLRLEVKLGQGCFGEVWMGTWNGTTRVAIKTL\n",
    "KPGTMSPEAFLQEAQVMKKLRHEKLVQLYAVVSEEPIYIVTEYMSKGSLLDFLKGETGKY\n",
    "LRLPQLVDMAAQIASGMAYVERMNYVHRDLRAANILVGENLVCKVADFGLARLIEDNEYT\n",
    "ARQGAKFPIKWTAPEAALYGRFTIKSDVWSFGILLTELTTKGRVPYPGMVNREVLDQVER\n",
    "GYRMPCPPECPESLHDLMCQCWRKEPEERPTFEYLQAFLEDYFTSTEPQYQPGENL"
   ]
  },
  {
   "cell_type": "markdown",
   "metadata": {},
   "source": [
    "- **(B)** Use ClustalW to align the four protein sequences. Qualitatively and quantitatively evaluate the alignment, i.e., does this look like a good alignment? Does the alignment score support your opinion?"
   ]
  },
  {
   "cell_type": "raw",
   "metadata": {},
   "source": [
    "Qualitatively: It is clear that the aligned sequence has a conserved region of more than 200aa and several conserved regions of tens of aa.\n",
    "Quantitatively: The alignment score is 2472.\n",
    "I suppose that it's a good alignment, and the alignment score supports my opinion. Because we get a positive alignment score, and it's obviously that there is a conserved region, which meet to our pre-knowledge that there will be a domain with about 250 residus long."
   ]
  },
  {
   "cell_type": "markdown",
   "metadata": {},
   "source": [
    "- **(C)** Identify the tyrosine kinase domain. Specifically, report its start and stop positions in the alignment. Provide a screenshot of the JalView output for part of the domain."
   ]
  },
  {
   "cell_type": "markdown",
   "metadata": {},
   "source": [
    "![screenshot_JalView_Alignment](JalView.jpg)"
   ]
  },
  {
   "cell_type": "raw",
   "metadata": {},
   "source": [
    "I suppose that the start position is 749, and the stop position is 998 in this alignment. "
   ]
  },
  {
   "cell_type": "markdown",
   "metadata": {},
   "source": [
    "- **(D)** Replace one of the tyrosine kinase sequences with an unrelated protein sequence of your choice. Report the sequence that you used. Rebuild the alignment and compare it to the one obtained in **(B)**."
   ]
  },
  {
   "cell_type": "markdown",
   "metadata": {},
   "source": [
    "![comparison](Comparison.jpg)"
   ]
  },
  {
   "cell_type": "raw",
   "metadata": {},
   "source": [
    "The sequence that I used is :\n",
    ">sp|A0A1B0GTW7|CIROP_HUMAN Ciliated left-right organizer metallopeptidase OS=Homo sapiens OX=9606 GN=CIROP PE=1 SV=1\n",
    "MLLLLLLLLLLPPLVLRVAASRCLHDETQKSVSLLRPPFSQLPSKSRSSSLTLPSSRDPQ\n",
    "PLRIQSCYLGDHISDGAWDPEGEGMRGGSRALAAVREATQRIQAVLAVQGPLLLSRDPAQ\n",
    "YCHAVWGDPDSPNYHRCSLLNPGYKGESCLGAKIPDTHLRGYALWPEQGPPQLVQPDGPG\n",
    "VQNTDFLLYVRVAHTSKCHQETVSLCCPGWSTAAQSQLTAALTSWAQRRGFVMLPRLCLK\n",
    "LLGSSNLPTLASQSIRITGPSVIAYAACCQLDSEDRPLAGTIVYCAQHLTSPSLSHSDIV\n",
    "MATLHELLHALGFSGQLFKKWRDCPSGFSVRENCSTRQLVTRQDEWGQLLLTTPAVSLSL\n",
    "AKHLGVSGASLGVPLEEEEGLLSSHWEARLLQGSLMTATFDGAQRTRLDPITLAAFKDSG\n",
    "WYQVNHSAAEELLWGQGSGPEFGLVTTCGTGSSDFFCTGSGLGCHYLHLDKGSCSSDPML\n",
    "EGCRMYKPLANGSECWKKENGFPAGVDNPHGEIYHPQSRCFFANLTSQLLPGDKPRHPSL\n",
    "TPHLKEAELMGRCYLHQCTGRGAYKVQVEGSPWVPCLPGKVIQIPGYYGLLFCPRGRLCQ\n",
    "TNEDINAVTSPPVSLSTPDPLFQLSLELAGPPGHSLGKEQQEGLAEAVLEALASKGGTGR\n",
    "CYFHGPSITTSLVFTVHMWKSPGCQGPSVATLHKALTLTLQKKPLEVYHGGANFTTQPSK\n",
    "LLVTSDHNPSMTHLRLSMGLCLMLLILVGVMGTTAYQKRATLPVRPSASYHSPELHSTRV\n",
    "PVRGIREV\n",
    "It replace the SRC protein. \n",
    "Compare to the results obtained in (B), the alignment score decreased obviously to -939. "
   ]
  },
  {
   "cell_type": "markdown",
   "metadata": {},
   "source": [
    "- **(E)** Can you still identify the tyrosine kinase domain even though you have thrown an unrelated sequence into the mix? Why or why not?"
   ]
  },
  {
   "cell_type": "raw",
   "metadata": {},
   "source": [
    "Yes, I can still identify the tyrosine kinase. Uncorrelated sequences introduce noise into alignments, making it more difficult to distinguish truly conservative domains from random similarity or chance alignments, so uncorrelated sequences may result in lower overall alignments scores. But the number of related proteins is still greater than the number of unrelated proteins. Related proteins still have an advantage in scores in conserved regions, although unrelated proteins may dilute the signal in that particular conserved region."
   ]
  },
  {
   "cell_type": "markdown",
   "metadata": {},
   "source": [
    "---\n",
    "**PROBLEM 5.3 (30%):**\n",
    "\n",
    "*Thought question:* describe in **English words** or **pseudocode** how you would write a program that works like a virtual ribosome, *i.e.* a script that takes an mRNA sequence and translates it to its corresponding protein sequence. Assume that the input mRNA sequence is stored in a FASTA\n",
    "file and the output protein sequence must be written out to a FASTA file.\n",
    ">**Hint:** your program will need some additional information to be able to translate from mRNA to protein, which you must describe how to store and use."
   ]
  },
  {
   "cell_type": "raw",
   "metadata": {},
   "source": [
    "Read the input mRNA sequence from a FASTA file:\n",
    "    Open the FASTA file\n",
    "    Read each line from the FASTA file and assembled to a sequence.\n",
    "\n",
    "Define a genetic code dictionary:\n",
    "    Create a dictionary mapping codons to amino acids, which keys equals to codons, values equals to amino acids.\n",
    "    dic_codon={'codon 1'=amino acid 1,'codon 2'=amino acid 2,...}\n",
    "Define an empty dictionary to contain the probable protein sequence:\n",
    "    dic_pro={}\n",
    "\n",
    "#Translate mRNA sequence into a protien sequence from 3 frame.\n",
    "for S in range(0,3):\n",
    "    #Set a empty str for containing protein sequence.\n",
    "    empty_str=''\n",
    "    #Set a pointer to position S\n",
    "    pointer=S\n",
    "    \n",
    "    while pointer<=len(mRNA)-3:\n",
    "        codon=mRNA[pointer:pointer+3]\n",
    "        amino_acid=dictionary[codon]\n",
    "        empty_str=empty_str+amino_acid\n",
    "        pointer=pointer+3\n",
    "    dic_pro['sequence_'+str(S)]=empty_str\n",
    "\n",
    "Write the protein sequence to a FASTA file\n",
    "    Create an output FASTA file for the protein sequence.\n",
    "    for name,sequence in dic_pro.items():\n",
    "        Write a FASTA header for the protein sequence(name).\n",
    "        Write the translated protein sequence to the file(sequence).\n",
    "    \n",
    "Close input and output files\n"
   ]
  }
 ],
 "metadata": {
  "kernelspec": {
   "display_name": "Python 3 (ipykernel)",
   "language": "python",
   "name": "python3"
  },
  "language_info": {
   "codemirror_mode": {
    "name": "ipython",
    "version": 3
   },
   "file_extension": ".py",
   "mimetype": "text/x-python",
   "name": "python",
   "nbconvert_exporter": "python",
   "pygments_lexer": "ipython3",
   "version": "3.9.12"
  }
 },
 "nbformat": 4,
 "nbformat_minor": 1
}
