{
 "cells": [
  {
   "cell_type": "markdown",
   "metadata": {},
   "source": [
    "# Homework 4\n",
    "\n",
    "### See [Blackboard](https://learn.bu.edu) for assignment and due dates"
   ]
  },
  {
   "cell_type": "markdown",
   "metadata": {},
   "source": [
    "Please enter your code and responses below and save the results to submit through Blackboard. Your code should follow the guidelines laid out in class, including commenting. Partial credit will be given for nonfunctional code that is logical and well commented. **This assignment must be completed on your own**."
   ]
  },
  {
   "cell_type": "markdown",
   "metadata": {},
   "source": [
    "## Problem 4.1 (50%):\n",
    "\n",
    "In this problem you will implement aspects of the LCS algorithm discussed in **Lecture 3**. Create a script in the box below. This script must contain the two functions described below, plus any additional code you need to run the script.\n",
    "\n",
    "* ```compute_lcs```: this function takes as input two sequences and ```returns``` (not prints) the LCS matrix.\n",
    "* ```print_lcs```: this function takes as input the same two sequences as well as the computed LCS matrix (from ```compute_lcs```) and prints the LCS Plot. For full credit, ```print_lcs``` should:\n",
    "    * print the two sequences one below the other\n",
    "    * display every row of the LCS matrix on a separate line.\n",
    "    * **Extra credit**: print the sequence characters next to their associated rows and columns as seen in the example below."
   ]
  },
  {
   "cell_type": "raw",
   "metadata": {},
   "source": [
    "Example output:\n",
    "\n",
    "Sequence A = TACGCTGGA\n",
    "Sequence B = AACTGGCAG\n",
    "  A A C T G G C A G \n",
    "T 0 0 0 1 0 0 0 0 0 \n",
    "A 1 1 0 0 0 0 0 1 0 \n",
    "C 0 0 2 0 0 0 1 0 0 \n",
    "G 0 0 0 0 1 1 0 0 1 \n",
    "C 0 0 1 0 0 0 2 0 0 \n",
    "T 0 0 0 2 0 0 0 0 0 \n",
    "G 0 0 0 0 3 1 0 0 1 \n",
    "G 0 0 0 0 1 4 0 0 1 \n",
    "A 1 1 0 0 0 0 0 1 0 "
   ]
  },
  {
   "cell_type": "code",
   "execution_count": 38,
   "metadata": {},
   "outputs": [],
   "source": [
    "#write your python code here\n",
    "#import numpy package \n",
    "import numpy as np\n",
    "\n",
    "# this function takes as input two sequences and returns (not prints) the LCS matrix.\n",
    "def compute_lcs(seq1,seq2):\n",
    "    #store two sequences' length to two variables, and create a matrix contain the score of LCS matrix with the default value 0\n",
    "    m = len(seq1)\n",
    "    n = len(seq2)\n",
    "    lcs_matrix = np.zeros((m,n))\n",
    "    #Read through each element in the seq1 and seq2\n",
    "    for i in range(m):\n",
    "        for j in range(n):\n",
    "            #Initialize the matrix with row 0 and column 0, If two elements equal, set cell value to 1, else to 0\n",
    "            if i == 0 or j == 0:\n",
    "                if seq1[i]==seq2[j]:\n",
    "                    lcs_matrix[i][j]=1\n",
    "            #calculate residual cell scores, when two elements equal, set cell value [i-1][j-1]+1\n",
    "            elif seq1[i] == seq2[j]:\n",
    "                lcs_matrix[i][j] = lcs_matrix[i - 1][j - 1] + 1\n",
    "\n",
    "\n",
    "    return lcs_matrix\n",
    "\n",
    "#this function takes as input the same two sequences as well as the computed LCS matrix\n",
    "#(from compute_lcs) and prints the LCS Plot\n",
    "def print_lcs(seq1,seq2,matrix):\n",
    "    #Print two sequences\n",
    "    print('Sequence A =',seq1)\n",
    "    print('Sequence B =',seq2)\n",
    "    #Set the initial value of index to 0\n",
    "    i=0\n",
    "    j=0\n",
    "    #Read through each position of the matrix and sequences.\n",
    "    #Because we want to print the sequence as first row and column, thus here is len(seq1)+1 and len(seq2)+1.\n",
    "    while i < len(seq1)+1:\n",
    "        while j<len(seq2)+1:\n",
    "            #cell[0,0]should print ' '\n",
    "            if i==0 and j==0:\n",
    "                print(' ',end=' ')\n",
    "            #print the sequence2\n",
    "            elif i==0 and j!=0:\n",
    "                print(seq2[j-1],end=' ')\n",
    "            #pirnt the sequence1\n",
    "            elif j==0 and i !=0:\n",
    "                print(seq1[i-1],end=' ')\n",
    "            #print each element in the matrix\n",
    "            else:\n",
    "                print(int(matrix[i-1][j-1]),end=' ')\n",
    "            #Renew the j value \n",
    "            j+=1\n",
    "        #Renew the i value and reset j to the position 0\n",
    "        i+=1\n",
    "        j=0\n",
    "        #Seperate the rows for printing\n",
    "        print()\n",
    "    return "
   ]
  },
  {
   "cell_type": "code",
   "execution_count": 39,
   "metadata": {},
   "outputs": [
    {
     "name": "stdout",
     "output_type": "stream",
     "text": [
      "Sequence A = TACGCTGGA\n",
      "Sequence B = AACTGGCAG\n",
      "  A A C T G G C A G \n",
      "T 0 0 0 1 0 0 0 0 0 \n",
      "A 1 1 0 0 0 0 0 1 0 \n",
      "C 0 0 2 0 0 0 1 0 0 \n",
      "G 0 0 0 0 1 1 0 0 1 \n",
      "C 0 0 1 0 0 0 2 0 0 \n",
      "T 0 0 0 2 0 0 0 0 0 \n",
      "G 0 0 0 0 3 1 0 0 1 \n",
      "G 0 0 0 0 1 4 0 0 1 \n",
      "A 1 1 0 0 0 0 0 1 0 \n"
     ]
    }
   ],
   "source": [
    "Sequence_A = 'TACGCTGGA'\n",
    "Sequence_B = 'AACTGGCAG'\n",
    "compute_lcs(Sequence_A,Sequence_B)\n",
    "print_lcs(Sequence_A,Sequence_B,compute_lcs(Sequence_A,Sequence_B))"
   ]
  },
  {
   "cell_type": "markdown",
   "metadata": {},
   "source": [
    "## Problem 4.2 (40%):\n",
    "\n",
    "Detecting orthologous genes between two genomes is an important task in bioinformatics. BLAST can be used as a simple ortholog detector. We first perform a BLAST search of a given protein from Genome 1 (protein A) against Genome 2. We then take the best matching protein from Genome 2 (protein B) and perform a BLAST search against Genome 1. If the best matching protein from Genome 1 is protein A, then we conclude that protein A and protein B are orthologous (i.e., the genes that encode them are orthologs). This is called the *reciprocal best hit strategy*.\n",
    "\n",
    "**(A)** The following protein is derived from the genome of *Sacchromyces cerevisiae* (Taxonomic ID: 4932) (baker’s yeast). Using BLAST, perform a reciprocal best hit search against:\n",
    "\n",
    "* Candida albicans (5476)\n",
    "* Haloquadratum walsbyi (293091)\n",
    "* Homo sapiens (9606)\n",
    "\n",
    "At each step describe the best hit you discover and comment on its degree of similarity to your query protein. If an orthology relationship is found, state it; if not, suggest a biological explanation."
   ]
  },
  {
   "cell_type": "raw",
   "metadata": {},
   "source": [
    ">gi|170986|gb|AAA34391.1| actin [Saccharomyces cerevisiae] MDSEVAALVIDNGSGMCKAGFAGDDAPRAVFPSIVGRPRHQGIMVGMGQKDSYVGDEAQSKRGILTLRYPIEHGIVTNWDDMEKIWHHTFYNELRVAPEEHPVLLTEAPMNPKSNREKMTQIMFETFNVPAFYVSIQAVLSLYSSGRTTGIVLDSGDGVTHVVPIYAGFSLPHAILRIDLAGRDLTDYLMKILSERGYSFSTTAEREIVRDIKEKLCYVALDFEQEMQTAAQSSSIEKSYELPDGQVITIGNERFRAPEALFHPSVLGLESAGIDQTTYNSIMKCDVDVRKELYGNIVMSGGTTMFPGIAERMQKEITALAPSSMKVKIIAPPERKYSVWIGGSILASLTTFQQMWISKQEYDESGPSIVHHKCF"
   ]
  },
  {
   "cell_type": "raw",
   "metadata": {},
   "source": [
    "First group with Candida albicans(5476)\n",
    "    The best hit protein is: Candida albicans SC5314 actin (ACT1), partial mRNA.\n",
    "    Max Score   Total Score   E-value\n",
    "    746       746         0\n",
    "    Blast the protein that we find with Genome(Sacchromyces cerevisiae, Taxonomic ID: 4932).\n",
    "    Find the best hit protein is: Saccharomyces cerevisiae S288C actin (ACT1), partial mRNA.\n",
    "    Max Score   Total Score   E-value\n",
    "    746       746         0\n",
    "    According to these E-values and the description of these two genes, we can know that: Although they are from two genomes, both of \n",
    "    them encode actin proteins, thus the sequences and funciton are very similar. And according to the reciprocal best hit strategy, \n",
    "    both genes are the best result after BLAST within query protein and genome.Thus, we can say that it's a orthologous gene between \n",
    "    these two genomes.\n",
    "    \n",
    "Second group with Haloquadratum walsbyi(293091)\n",
    "    No matching sequences were found from the target's genome, thus there is no orthology relationship.\n",
    "    Biological explanation: This protein fragment is not present in Haloquadratum walsbyi, which means that haloquadratum walsbyi may \n",
    "    lack this protein or the corresponding gene fragment. It could be that there is no homology between the two genomes, or it could be \n",
    "    that the gene fragment was mutated during evolution and we couldn't detect it by BLAST.\n",
    "\n",
    "Third group with Homosapiens(9606)\n",
    "    The best hit protein is: Homo sapiens actin beta (ACTB), mRNA.\n",
    "    Max Score   Total Score   E-value\n",
    "    722       722         0\n",
    "    Blast the protein that we find with Genome(Sacchromyces cerevisiae, Taxonomic ID: 4932).\n",
    "    Find the best hit protein is: Saccharomyces cerevisiae S288C actin (ACT1), partial mRNA.\n",
    "    Max Score   Total Score   E-value\n",
    "    721       721         0\n",
    "    According to these E-values and the description of these two genes, we can know that: Although they are from two genomes, but the \n",
    "    sequences are very similar. They are from the same actin family, although they have a tiny differences in sequences because of the \n",
    "    different organism species, they have the similar function. And according to the reciprocal best hit strategy, both genes are the \n",
    "    best result after BLAST within query protein and genome.Thus, we can say that it's a orthologous gene between these two genomes.\n"
   ]
  },
  {
   "cell_type": "markdown",
   "metadata": {},
   "source": [
    "**(B)** Describe a BLAST-based procedure (either in a paragraph or with pseudocode) for determining all orthology relationships between a pair of genomes. You may assume that the genomes have been provided in FASTA format with one protein per entry. You DO NOT need to implement your procedure in python."
   ]
  },
  {
   "cell_type": "code",
   "execution_count": null,
   "metadata": {},
   "outputs": [],
   "source": [
    "# Read two genomes from FASTA file as input variables\n",
    "Read the genome 1 from FASTA file saved as genome_1\n",
    "Read the genome 2 from FASTA file saved as genome_2\n",
    "\n",
    "\n",
    "# define a function find_best_fit to find calculate the score between a qeury protein and a target_genome.\n",
    "def funciton find_best_fit(query_protein,target_genome):\n",
    "    #Set best_fit to store the best fitted protein from the target_genome with query protein\n",
    "    best_fit=null\n",
    "    #Set the best_score to store the highest score calculated by BLAST\n",
    "    best_score=0\n",
    "    \n",
    "    #Read through each protein in target_genomes\n",
    "    for each protein in target_genomes:\n",
    "        #Calculate the score of qeury_protein with protein by BLAST\n",
    "        score=Get_Blast_Score(query_protein,protein)\n",
    "        #If statement to detect whether the score is larger than the best_score, if yes, renew the value of best_score\n",
    "        if score>best_score:\n",
    "            best_score=socre\n",
    "            #Update the best_fit to the protein with the best_score\n",
    "            best_fit=protein\n",
    "    #Return the Best_fit which contains the best fitted protien from the target_genomes\n",
    "    return best_fit\n",
    "\n",
    "#Set a list variable orthologs to store the orthologs gene pairs\n",
    "orthologs=empty list\n",
    "\n",
    "#Read through each protein_1 in genome_1\n",
    "for each protein_1 in genome_1:\n",
    "    #Find the best fitted protein in genome_2 using the find_best_fit funciton that we defined before.\n",
    "    best_fit_1 = find_best_fit(protein_1, genome_2)\n",
    "    #If statement to detect whether the there is a best fitted protein in genome_2\n",
    "    if best_fit_1 is not null:\n",
    "        #If there is a best fit, use the best_fit_1 and genome_1 with funciton find_best_fit, \n",
    "        #to detect if there is also the best_fit protein in genome_1.\n",
    "        best_fit_2 = find_best_fit(best_fit_1,genome_1)\n",
    "        #If statement to judge if the best_fit_2 equals to best_fit_1, they are ortholog relationships\n",
    "        if best_fit_2 == best_fit_1:\n",
    "            #Add the pair to orthologs as a tuple\n",
    "            orthologs.append((best_fit1,protein_1))\n",
    "\n",
    "#Print the results in orghologs.\n",
    "print(orthologs)\n",
    "    \n",
    "    \n",
    "\n",
    "    "
   ]
  },
  {
   "cell_type": "markdown",
   "metadata": {},
   "source": [
    "## Problem 4.3 (10%):\n",
    "\n",
    "Thought question: how could you use your python script from part 4.1 and python's random library to estimate the probability of observing an LCS of length 4 between two random DNA sequences of length 9? How could you estimate the statistical significance (p-value) of this occurrence?"
   ]
  },
  {
   "cell_type": "raw",
   "metadata": {},
   "source": [
    "1.Using python's random library to generate two random DNA sequences of length 9. \n",
    "2.Using the compute_lcs function to calculate the LCS matrix between two sequences, and show them by print_lcs function. \n",
    "3.Calculating the times the LCS length is equal to 4\n",
    "4.Repeating the step 1-3 over and over again, and record the result.\n",
    "5.Calculate the p-value by : (count of occurrences of LCS length equal to 4)/(total number of simulations)\n",
    "If the p-value is larger than 0.05, thus we can say that: it is likely to observe a LCS of length 4 between two random DNA sequences, it's not statistically significant.\n",
    "If the p-value is smaller than 0.05, thus we can say that: it is unlikely to observe a LCS of length 4 between two random DNA sequences, it's statistically significant."
   ]
  }
 ],
 "metadata": {
  "anaconda-cloud": {},
  "kernelspec": {
   "display_name": "Python 3 (ipykernel)",
   "language": "python",
   "name": "python3"
  },
  "language_info": {
   "codemirror_mode": {
    "name": "ipython",
    "version": 3
   },
   "file_extension": ".py",
   "mimetype": "text/x-python",
   "name": "python",
   "nbconvert_exporter": "python",
   "pygments_lexer": "ipython3",
   "version": "3.9.12"
  }
 },
 "nbformat": 4,
 "nbformat_minor": 1
}
