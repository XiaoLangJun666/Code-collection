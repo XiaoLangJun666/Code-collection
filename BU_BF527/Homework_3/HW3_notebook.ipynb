{
 "cells": [
  {
   "cell_type": "markdown",
   "id": "b0135b70",
   "metadata": {},
   "source": [
    "# Problem 3.1"
   ]
  },
  {
   "cell_type": "markdown",
   "id": "8110769f",
   "metadata": {},
   "source": [
    "**Consider the following biological sequence analysis tasks. For each task, (A) write the type of sequence analysis algorithm that would best accomplish the task, and (B)explain why. The algorithms have been discussed in class in Lectures 3-5. There may be more than one correct choice per task (you need only provide one).**"
   ]
  },
  {
   "cell_type": "markdown",
   "id": "47023dce",
   "metadata": {},
   "source": [
    "**1.Visualize a sequence inversion that occurred between two closely related viral strains.**"
   ]
  },
  {
   "cell_type": "markdown",
   "id": "5944b566",
   "metadata": {},
   "source": [
    "I think the best algorithm to visualize them is Dot-Matrix algorithm. First of all, Dot-Matrix algorithm can be used to visualize similarities and differences between two sequences according to the diagnal. When we want to visualize the sequence inversion between to related viral strains, we can observe whether the Dot-Matrix has diagonal patterns going in the opposite direction. It's clear and easy for observe in Dot-Matrix(There are two diagonals that are vertical to each other)."
   ]
  },
  {
   "cell_type": "markdown",
   "id": "848f5e90",
   "metadata": {},
   "source": [
    "**2.Given highly conserved ribosomal RNA sequences from five insect species, \n",
    "determine quantitatively which two species are the most closely related.**"
   ]
  },
  {
   "cell_type": "markdown",
   "id": "575279f8",
   "metadata": {},
   "source": [
    "I suppose that most appropriate algorithm to solve this problem that we learned in Lec3-5 is the Longest Common Subsequence(LCS). Because the five insect species have highly conserved regions, thus we can use LCS to finds the longest subsequence that is common to all sequences. By the LCS, we can quantify the similarity among the species by the length of conserved region, further to determine which two species are the most closely related."
   ]
  },
  {
   "cell_type": "markdown",
   "id": "df16e795",
   "metadata": {},
   "source": [
    "**3.Evaluate a new sequencing technology by comparing the results of a 300 BP \n",
    "read to a previous result based on Sanger sequencing. The beginning of the \n",
    "Sanger sequence is known to contain some “junk”—do not penalize for this.**"
   ]
  },
  {
   "cell_type": "markdown",
   "id": "c168adf0",
   "metadata": {},
   "source": [
    "We can choose Needleman-Wunsch algorithm to perform sequence alignment which can help to find the difference. Needleman-Wunsch algorithm is a global alignment algorithm, it can handle with the alignment with different length sequences. And through the optimal global alignment, we can detect the changes between new and old sequences, which is called 'junk'."
   ]
  },
  {
   "cell_type": "markdown",
   "id": "92b641f2",
   "metadata": {},
   "source": [
    "**4.Identify a shared DNA binding domain in two otherwise unrelated proteins.**"
   ]
  },
  {
   "cell_type": "markdown",
   "id": "b19276ac",
   "metadata": {},
   "source": [
    "I think the local alignment algorithm like Smith-Waterman are appropriate for this quesiton. Local alignment algorithms are useful to find those regions with high similarity, which indicated sahred domians or motifs in those protein sequences. Those regions may indicate conserved regions in protein, which share the same function between those proteins."
   ]
  },
  {
   "cell_type": "markdown",
   "id": "4c057b1f",
   "metadata": {},
   "source": [
    "# Problem 3.2"
   ]
  },
  {
   "cell_type": "markdown",
   "id": "7baf8676",
   "metadata": {},
   "source": [
    "**(A) Manually fill out a dynamic programming (DP) matrix for the pair of short DNA \n",
    "sequences below using the Needleman-Wunsch global alignment algorithm, and the \n",
    "scoring scheme below  \n",
    "(B) Include traceback arrows  \n",
    "(C) Report the score of the optimal alignment(s)  \n",
    "(D) Write out one possible optimal alignment  \n",
    "(E) How many equally optimal alignments are there (i.e., are there any ties)?**"
   ]
  },
  {
   "cell_type": "markdown",
   "id": "f3bec116",
   "metadata": {},
   "source": [
    "The score of the optimal alignment is: 6  \n",
    "One possible optimal alignment for these two sequence is 'GATGGCT' with 'CA_GG_T'  \n",
    "There is no equally optimal alignment in this problem"
   ]
  },
  {
   "cell_type": "markdown",
   "id": "b4aa8da5",
   "metadata": {},
   "source": [
    "![scoring scheme](result.jpg)"
   ]
  },
  {
   "cell_type": "markdown",
   "id": "02a5243c",
   "metadata": {},
   "source": [
    "# Problem 3.3"
   ]
  },
  {
   "cell_type": "markdown",
   "id": "f40faa9f",
   "metadata": {},
   "source": [
    "**Write a python script called dotcounter.py that, given a pair of strings A and B, determines the total number of dots that would appear in the dot plot comparing the two strings and prints their coordinates. Your program does not need to draw the actual dot plot!**\n"
   ]
  },
  {
   "cell_type": "code",
   "execution_count": 2,
   "id": "0313a542",
   "metadata": {
    "scrolled": true
   },
   "outputs": [],
   "source": [
    "def dotcounter(seq1,seq2):\n",
    "    #set a variable to count dot\n",
    "    match=0\n",
    "    #read through each character in seq1\n",
    "    for i in range(0,len(seq1)):\n",
    "        #read through each character in seq2\n",
    "        for j in range(0,len(seq2)):\n",
    "            #If statement to judge whether there is a match\n",
    "            if seq1[i]==seq2[j]:\n",
    "                match+=1\n",
    "                #print the pair of matches\n",
    "                print('A'+str(i+1),'and',\"B\"+str(j+1))\n",
    "            #Print the dots that are matched\n",
    "    return(print('Total matches:\\n'+str(match)))\n",
    "\n"
   ]
  },
  {
   "cell_type": "code",
   "execution_count": 3,
   "id": "713b6fcc",
   "metadata": {},
   "outputs": [
    {
     "name": "stdout",
     "output_type": "stream",
     "text": [
      "A1 and B1\n",
      "A1 and B4\n",
      "A2 and B6\n",
      "A2 and B8\n",
      "A2 and B9\n",
      "A3 and B3\n",
      "A3 and B10\n",
      "A4 and B3\n",
      "A4 and B10\n",
      "A5 and B2\n",
      "A5 and B5\n",
      "A5 and B7\n",
      "A6 and B2\n",
      "A6 and B5\n",
      "A6 and B7\n",
      "A7 and B6\n",
      "A7 and B8\n",
      "A7 and B9\n",
      "A8 and B6\n",
      "A8 and B8\n",
      "A8 and B9\n",
      "A9 and B1\n",
      "A9 and B4\n",
      "A10 and B3\n",
      "A10 and B10\n",
      "Total matches:\n",
      "25\n"
     ]
    }
   ],
   "source": [
    "dotcounter(seq1='ACTTGGCCAT',seq2='AGTAGCGCCT')"
   ]
  },
  {
   "cell_type": "markdown",
   "id": "1738df79",
   "metadata": {},
   "source": [
    "**Thought question (full points for explaining your logic, right or wrong): How many dots would you expect to observe given two random DNA sequences of length ten? Do you think that the two sequences from (B) are random or related?**"
   ]
  },
  {
   "cell_type": "markdown",
   "id": "e43b034a",
   "metadata": {},
   "source": [
    "I suppose that for two random DNA sequences of length ten, the dot that expected to be observed is 25. The reason is, at each position, the probability is 0.25 for A,C,T,G. Thus for each position at the first sequence, the expected match at another sequence is 0.25*10=2.5. The first sueqnce has 10 position, I expect to observe 2.5*10=25 dots. Because the expect observed dots for a random sequence with length ten is 25, I think the two sequences are random."
   ]
  },
  {
   "cell_type": "markdown",
   "id": "0f68213e",
   "metadata": {},
   "source": [
    "# Problem 3.4"
   ]
  },
  {
   "cell_type": "code",
   "execution_count": 1,
   "id": "999c618d",
   "metadata": {},
   "outputs": [],
   "source": [
    "import numpy as np\n",
    "import time \n",
    "#Define a function which contains 5 parameters, two sequence and the scoring shceme, here the scoring scheme has the default value.\n",
    "def global_alignment(seq1,seq2,match=1,mismatch=0,gap=-1):\n",
    "    #Set up a matrix to contain the scoring result, the dimension is len(seq2)*len(seq1)\n",
    "    matrix=np.zeros((len(seq2)+1,len(seq1)+1))\n",
    "    \n",
    "    #initial lize the matrix,look through each position score in row 0 and col 0\n",
    "    for  i in range(1,len(seq1)+1):\n",
    "        matrix[0,i]=matrix[0,i-1]+gap\n",
    "    for  j in range(1,len(seq2)+1):\n",
    "        matrix[j,0]=matrix[j-1,0]+gap\n",
    "\n",
    "    #Set up a dictionary to contain the traceback information.\n",
    "    dic={}\n",
    "    #read through each cell from row 1 and col 1\n",
    "    for x in range(1,len(seq1)+1):\n",
    "        for y in range (1,len(seq2)+1):\n",
    "            #varify whether these two characters is match or not\n",
    "            if seq1[x-1]==seq2[y-1]:\n",
    "                status=match\n",
    "            else:\n",
    "                status=mismatch\n",
    "            #Use the definition to decide the score of each position\n",
    "            values=[matrix[y-1,x-1]+status,matrix[y-1,x]+gap,matrix[y,x-1]+gap]\n",
    "            #Each position should contain the max value according to those fomulars\n",
    "            matrix[y,x]=max(values)\n",
    "            #The pointer store the traceback information, which value is selected by max funtion.\n",
    "            pointer=values.index(matrix[y,x])\n",
    "            \n",
    "            #With the different value that selected from the definition, store the information to dictionary with the key equal to the position.\n",
    "            if pointer == 0 and status==match:\n",
    "                dic[str(y)+\"_\"+str(x)]='match'\n",
    "            elif pointer == 0 and status==mismatch:\n",
    "                dic[str(y)+\"_\"+str(x)]='mismatch'\n",
    "            elif pointer == 1:\n",
    "                dic[str(y)+\"_\"+str(x)]='seq1_gap'\n",
    "            elif pointer == 2:\n",
    "                dic[str(y)+\"_\"+str(x)]='seq2_gap'\n",
    "    \n",
    "    #Create new variable store the optimal alignment.\n",
    "    align_seq1=''\n",
    "    align_seq2=''\n",
    "    \n",
    "    #Store the length of those two sequence\n",
    "    q=len(seq1)\n",
    "    p=len(seq2)\n",
    "    \n",
    "    #From the last position of the scoring dataframe, traceback the process and generate the optimal global alignment\n",
    "    while p>=1 and q>=1:\n",
    "        #From dictionary we can know the score is added by math,mismatch or gap, thus we can assemble the new sequence.\n",
    "        #If the value in dictionary is match or mismatch, both characters added to the new sequence, and the row number-1,col number -1.\n",
    "        if dic[str(p)+\"_\"+str(q)]=='match'or dic[str(p)+\"_\"+str(q)]=='mismatch':\n",
    "            align_seq1=seq1[q-1]+align_seq1\n",
    "            align_seq2=seq2[p-1]+align_seq2\n",
    "            q-=1\n",
    "            p-=1\n",
    "        #If the value in dictionary is seq1_gap, it means the sequence 1 need a '_' in the optimal global alignment,thus row -1.\n",
    "        elif dic[str(p)+\"_\"+str(q)]=='seq1_gap':\n",
    "            align_seq1='_'+align_seq1\n",
    "            align_seq2=seq2[p-1]+align_seq2\n",
    "            p-=1\n",
    "        #If the value in dictionary is seq2_gap, it means the sequence 2 need a '_' in the optimal global alignment, thus col -1.\n",
    "        elif dic[str(p)+\"_\"+str(q)]=='seq2_gap':\n",
    "            align_seq1=seq1[q-1]+align_seq1\n",
    "            align_seq2='_'+align_seq2\n",
    "            q-=1\n",
    "    \n",
    "    return(print('the scoring matrix is:\\n',matrix,'\\n',\"The optimal global alignment is:\\n\",align_seq1,'\\n',align_seq2))"
   ]
  },
  {
   "cell_type": "code",
   "execution_count": 2,
   "id": "c2873dd4",
   "metadata": {
    "scrolled": true
   },
   "outputs": [
    {
     "name": "stdout",
     "output_type": "stream",
     "text": [
      "the scoring matrix is:\n",
      " [[  0.  -3.  -6.  -9. -12. -15. -18. -21.]\n",
      " [ -3.   2.  -1.  -4.  -7. -10. -13. -16.]\n",
      " [ -6.  -1.   4.   1.  -2.  -5.  -8. -11.]\n",
      " [ -9.  -4.   1.   6.   3.   0.  -3.  -6.]\n",
      " [-12.  -7.  -2.   3.   6.   5.   2.  -1.]\n",
      " [-15. -10.  -5.   0.   3.   6.   5.   2.]\n",
      " [-18. -13.  -8.  -3.   0.   5.   6.   7.]] \n",
      " The optimal global alignment is:\n",
      " GATTACA \n",
      " GA_TAGA\n"
     ]
    }
   ],
   "source": [
    "global_alignment(seq1='GATTACA',seq2='GATAGA',match=2,mismatch=0,gap=-3)"
   ]
  }
 ],
 "metadata": {
  "kernelspec": {
   "display_name": "Python 3 (ipykernel)",
   "language": "python",
   "name": "python3"
  },
  "language_info": {
   "codemirror_mode": {
    "name": "ipython",
    "version": 3
   },
   "file_extension": ".py",
   "mimetype": "text/x-python",
   "name": "python",
   "nbconvert_exporter": "python",
   "pygments_lexer": "ipython3",
   "version": "3.9.12"
  }
 },
 "nbformat": 4,
 "nbformat_minor": 5
}
