{
 "cells": [
  {
   "cell_type": "markdown",
   "metadata": {},
   "source": [
    "# BF527: Applications in Bioinformatics\n",
    "\n",
    ">**Note:** Please submit the Jupyter notebook through Blackboard. Your code should follow the guidelines laid out in class, including commenting. Partial credit will be given for nonfunctional code that is logical and well commented. This assignment must be completed on your own.\n",
    "\n",
    "## HOMEWORK 6 \n",
    "\n",
    "### See [Blackboard](https://learn.bu.edu) for assignment and due dates\n",
    "\n",
    "---"
   ]
  },
  {
   "cell_type": "markdown",
   "metadata": {},
   "source": [
    "**PROBLEM 6.1 (30%):**\n",
    "\n",
    "You sequence a new organism and identify the gene sequence below but have no idea what its function is. Use **at least two** publicly available web tools to predict the function of the gene product: "
   ]
  },
  {
   "cell_type": "raw",
   "metadata": {},
   "source": [
    ">Unknown protein\n",
    "DKERLLELLKLPRQLWGDFGRMQQAYKQQSLLLHPDKGGSHALMQELNSLWGTFKTEVYNL"
   ]
  },
  {
   "cell_type": "markdown",
   "metadata": {},
   "source": [
    "Describe your procedure, and interpret your results by answring the following questions:\n",
    "1. What does it match to, and how well does it match? \n",
    "2. Are there any conserved domains? What do those domains do? \n",
    "3. What is the most likely Gene Ontology terms that would be assigned to this protein? "
   ]
  },
  {
   "cell_type": "markdown",
   "metadata": {},
   "source": [
    "##### Method_1-------BLASTP:  \n",
    "Procedure:  \n",
    "(1)Open the BLAST website: https://blast.ncbi.nlm.nih.gov/Blast.cgi  \n",
    "(2)Click the BLASTP button, which redirect to: https://blast.ncbi.nlm.nih.gov/Blast.cgi?PROGRAM=blastp&PAGE_TYPE=BlastSearch&LINK_LOC=blasthome \n",
    "(3)Copy and paste the amino acid sequence in to the box, click Run BLAST under the default parameters.  \n",
    "(4)Get the result below:\n",
    "![Result from BLASTP](BLASTP_question_1.jpg) \n",
    "(5)Detect the highest E-value items, and we get:\n",
    "![item](BLASTP_item.jpg)  \n",
    "(6)We search the key words small T antigen in GO, and get below:\n",
    "![GO](GO_1.jpg)\n",
    "(7)check the item corresponds to Murine polyomavirus strain A2\n",
    "\n",
    "###### Results interpretation:  \n",
    "1.It can perfectly match the sequence that find from the BLAST, with 100% identity, 123 score, and E-value 6e-36.  \n",
    "2.Yes, there is conserved domain,The common region of ST and LT proteins comprises the J domain. This domain is essential for multiple viral activities, including virion assembly, viral DNA replication, transformation and transcriptional activation. This domain is also required for cyclin A-transactivating activity of ST.    \n",
    "3.We get the GO item GO:0045308, GO:0001948 corresponds to protein binding."
   ]
  },
  {
   "cell_type": "markdown",
   "metadata": {},
   "source": [
    "##### Method_2-------Uniprot:  \n",
    "Procedure:  \n",
    "(1)Open the Uniprot website: https://www.uniprot.org/  \n",
    "(2)Click the BLAST button on the left cornor of the webpage, which redirect to: https://www.uniprot.org/blast  \n",
    "(3)Copy and paste the amino acid sequence in to the box, click Run BLAST under the default parameters.  \n",
    "(4)Get the result below:\n",
    "![Result from Uniprot BLAST](Uniprot_question_1.jpg)\n",
    "(5)Choose the top item with the significant E-value:P0C567  \n",
    "###### Results interpretation:  \n",
    "1.It can perfectly match the sequence that find from the BLAST, with 100% identity, 346 score, and E-value 9e-43.  \n",
    "2.Yes there is a domian: RLLELLKLPRQLWGDFGRMQQAYKQQSLLLHPDKGGSHALMQELNSLWGTFKTEVYNL.  \n",
    "The function of the domains may be: Promotes efficient viral genome replication by accelerating both G1 and S phase progression of the cell cycle. Inhibits host PP2A by binding to the A subunit, thereby displacing lower affinity regulatory B subunit. Inactivation of PP2A in turn results in the transactivation of cyclin A and cyclin D1 promoters. Late during the infection cycle, ST may induce dephosphorylation of host MTOR, leading to the inhibition of cap-dependent translation. May establish and maintain high levels of viral genomes during persistent infection in cell culture.  \n",
    "3.the most likely Gene Ontology terms that would be assigned to this protein is GO:0030430 host cell cytoplasm, GO:0042025 host cell nucleus, GO:0046872 metal ion binding.  \n"
   ]
  },
  {
   "cell_type": "markdown",
   "metadata": {},
   "source": [
    "---\n",
    "**PROBLEM 6.2 (40%)**\n",
    "There are **23221** human proteins with some Gene Ontology (GO biological process annotation. You conduct a gene expression microarray experiment and identify **443** genes that are up-regulated; you can assume that the remaining (23221–443 =) **22778** genes are not up-regulated. Using GO, you note that **52** of the up-regulated genes are annotated as participating in the “Notch signaling pathway”. There are a total of **120** proteins in GO annotated with the term \"Notch signaling pathway\".\n",
    "- **1.** Without using a calculator or computer, do you think you have an enrichment of Notch signaling pathway members in your list of up-regulated genes? Describe your intuition for why there is or isn’t enrichment of the GO term in your list. \n",
    "\n",
    ">*Hint: think in terms of percentages.*"
   ]
  },
  {
   "cell_type": "markdown",
   "metadata": {},
   "source": [
    "First, calculate the percentage of 'Notch signaling pathway\" members among all human proteins: 120/23221*100=0.52%. Then calculate the percentage of \"Notch signaling pathway\" among the up-regulated genes: 52/443=11.74%. 11.74>>0.52%,thus I think I have an enrichment of Notch signaling pathway members in my list of up-regulated genes."
   ]
  },
  {
   "cell_type": "markdown",
   "metadata": {},
   "source": [
    "- **2.** Fill out the contingency table that describes the overlap between up-regulated genes and “Notch signaling pathway” annotated genes. What distribution can be used to calculate the probability of observing this contingency table? Set up the formula and enter the correct numbers for calculating the probability, but ***DO NOT*** compute the probability."
   ]
  },
  {
   "cell_type": "markdown",
   "metadata": {},
   "source": [
    "|                  | Detected  | Not detected |Total|\n",
    "|     :--------       | :------- |  :-------- |:---|\n",
    "|  Has annotation       |   52    |    68      | 120   |\n",
    "| Does not have annotation |  391      |    22710      |  23101  |\n",
    "| Total              |   443     |    22778      |  23221  |"
   ]
  },
  {
   "cell_type": "markdown",
   "metadata": {},
   "source": [
    "We can use hypergeometric distribution to calculate the probability of observing this contigency table.  \n",
    "The formula is:  \n",
    "$$P(table)=\\frac{120!\\times 23101!\\times 443! \\times 22778!}{23221! \\times 52! \\times 68! \\times 391! \\times 22710!} $$"
   ]
  },
  {
   "cell_type": "markdown",
   "metadata": {},
   "source": [
    "- **3.** How many contingency tables would be required to calculate a p-value for assessing significant enrichment of the Notch signaling pathway in your list of up-regulated genes? Note that the maximum number of genes that can be both up-regulated and belong to the Notch signaling pathway is 120."
   ]
  },
  {
   "cell_type": "raw",
   "metadata": {},
   "source": [
    "69 contigency tables would us calculate for assessing significant enrichment."
   ]
  },
  {
   "cell_type": "markdown",
   "metadata": {},
   "source": [
    "- **4.** Go to http://www.langsrud.com/fisher.htm and calculate the p-value (use right sided). Is finding 52 Notch signaling pathway proteins in a list of 443 up-regulated genes significant? Explain and cite the appropriate numbers."
   ]
  },
  {
   "cell_type": "markdown",
   "metadata": {},
   "source": [
    "Yes, it's significant.   \n",
    "Left   : p-value = 1  \n",
    "Right  : p-value = 1.9460262632525435e-57  \n",
    "2-Tail : p-value = 1.9460262632525435e-57  \n",
    "the pvalue is Right is 1.9460262632525435e-57 <<0.05, thus it's significant."
   ]
  },
  {
   "cell_type": "markdown",
   "metadata": {},
   "source": [
    "- **5.** **Extra Credit:** Fill out the contingency table describing up-regulated genes versus annotated genes that will have the highest probability of being observed. You do not actually need to compute anything here, use proportions to think of the most likely number of annotated genes you would detect. Explain your thought process."
   ]
  },
  {
   "cell_type": "markdown",
   "metadata": {},
   "source": [
    "To maximizie the probability of being up-regulated genes that observed, we should maximize the number of genes that both is up-regulated and annotated as Notching Signaling pathway. Thus the contigency table may be like below:"
   ]
  },
  {
   "cell_type": "markdown",
   "metadata": {},
   "source": [
    "|                  | Detected  | Not detected |Total|\n",
    "|     :--------       | :------- |  :-------- |:---|\n",
    "|  Has annotation       |   120    |    0      | 120   |\n",
    "| Does not have annotation |  323      |    22778      |  23101  |\n",
    "| Total              |   443     |    22778      |  23221  |"
   ]
  },
  {
   "cell_type": "markdown",
   "metadata": {},
   "source": [
    "---\n",
    "**PROBLEM 6.3 (30%):**\n",
    "CpG islands or CG islands are genomic regions that contain a high frequency of C and G nucleotides. They are often found in gene promoters and are important for regulation of gene expression.\n",
    "- **1.** Construct a model (*i.e.* draw a picture) representing an HMM for finding CpG islands across the genome which includes hidden states, emission states, transition probabilities, and emission probabilities. While the exact transition and emission probabilities are not known (you can make up numbers), the probabilities in your model should generally reflect the biology of CpG islands. Explain the reasoning behind your choice of probabilities.\n",
    "\n",
    ">***Hint:** When determining the states in your HMM, think about what it means to be inside or outside a CpG island. **This can be represented by a very simple HMM, don’t overthink things.** For the transition probabilities between hidden states, do additional research and find out what percentage of the genome is estimated to be in a CpG island. This percentage or frequency should at some level be reflected in your transition probabilities.*"
   ]
  },
  {
   "cell_type": "markdown",
   "metadata": {},
   "source": [
    "![HMM](HMM.jpg)"
   ]
  },
  {
   "cell_type": "raw",
   "metadata": {},
   "source": [
    "According to the Wikipedia, the the length of CpG islands is around 500-1000, and there might have 5-15 CpG island per 1M base. Thus we can cauculate the probability that a base is in CpG island is 750*10/1M, it's around 1%. Thus the transition probabilities should be 1% to CpG and 99% to not CpG. And from the Wikipedia, we can search that the GC content in CpG is over 60%, thus the emission probability for C and G is around 35%."
   ]
  },
  {
   "cell_type": "markdown",
   "metadata": {},
   "source": [
    "- **2.** In HMM models, the transition probabilities leaving a particular hidden state should always add up to 1 (*i.e.* the probabilities of the arrows going out from a state should add up to 1). Is this the same for the probabilities entering a particular state? In other words, do the probabilities of the arrows pointing towards a state add always add up to 1? Can you explain this?"
   ]
  },
  {
   "cell_type": "raw",
   "metadata": {},
   "source": [
    "No, it's not the same for the probabilities entering  a particular state, it will not always add up to 1. In Hidden Markov Models, the transition probabilities leaving a particular hidden state should sum to 1, ensuring the system moves to one of the possible states at each step. However, the probabilities of the arrows pointing towards a specific state, which represent the likelihood of arriving at that state from different previous states, do not need to add up to 1. This flexibility allows HMMs to model complex sequences with varying paths leading to the same state. For example in the slides of Lec13, the probability that entering not in gene is 120%, and entering in gene is 80%. It's not fair for entering a hidden state."
   ]
  },
  {
   "cell_type": "markdown",
   "metadata": {},
   "source": [
    "![example](question_3.2.jpg)"
   ]
  }
 ],
 "metadata": {
  "kernelspec": {
   "display_name": "Python 3 (ipykernel)",
   "language": "python",
   "name": "python3"
  },
  "language_info": {
   "codemirror_mode": {
    "name": "ipython",
    "version": 3
   },
   "file_extension": ".py",
   "mimetype": "text/x-python",
   "name": "python",
   "nbconvert_exporter": "python",
   "pygments_lexer": "ipython3",
   "version": "3.9.12"
  }
 },
 "nbformat": 4,
 "nbformat_minor": 1
}
