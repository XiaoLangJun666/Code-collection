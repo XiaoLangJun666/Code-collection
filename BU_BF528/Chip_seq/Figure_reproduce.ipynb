{
 "cells": [
  {
   "cell_type": "code",
   "execution_count": 144,
   "id": "74245c99",
   "metadata": {},
   "outputs": [],
   "source": [
    "import pandas as pd"
   ]
  },
  {
   "cell_type": "code",
   "execution_count": 145,
   "id": "520cd36c",
   "metadata": {
    "scrolled": true
   },
   "outputs": [
    {
     "data": {
      "text/html": [
       "<div>\n",
       "<style scoped>\n",
       "    .dataframe tbody tr th:only-of-type {\n",
       "        vertical-align: middle;\n",
       "    }\n",
       "\n",
       "    .dataframe tbody tr th {\n",
       "        vertical-align: top;\n",
       "    }\n",
       "\n",
       "    .dataframe thead th {\n",
       "        text-align: right;\n",
       "    }\n",
       "</style>\n",
       "<table border=\"1\" class=\"dataframe\">\n",
       "  <thead>\n",
       "    <tr style=\"text-align: right;\">\n",
       "      <th></th>\n",
       "      <th>PeakID (cmd=annotatePeaks.pl results/RUNX1_intersect_peak_filtered.bed hg38 -gtf results/gencode.v45.primary_assembly.annotation.gtf)</th>\n",
       "      <th>Chr</th>\n",
       "      <th>Start</th>\n",
       "      <th>End</th>\n",
       "      <th>Strand</th>\n",
       "      <th>Peak Score</th>\n",
       "      <th>Focus Ratio/Region Size</th>\n",
       "      <th>Annotation</th>\n",
       "      <th>Detailed Annotation</th>\n",
       "      <th>Distance to TSS</th>\n",
       "      <th>Nearest PromoterID</th>\n",
       "      <th>Entrez ID</th>\n",
       "      <th>Nearest Unigene</th>\n",
       "      <th>Nearest Refseq</th>\n",
       "      <th>Nearest Ensembl</th>\n",
       "      <th>Gene Name</th>\n",
       "      <th>Gene Alias</th>\n",
       "      <th>Gene Description</th>\n",
       "      <th>Gene Type</th>\n",
       "      <th>AbsDistance</th>\n",
       "    </tr>\n",
       "  </thead>\n",
       "  <tbody>\n",
       "    <tr>\n",
       "      <th>0</th>\n",
       "      <td>chr16-395</td>\n",
       "      <td>chr16</td>\n",
       "      <td>3487961</td>\n",
       "      <td>3488135</td>\n",
       "      <td>+</td>\n",
       "      <td>1</td>\n",
       "      <td>NaN</td>\n",
       "      <td>intron (ENST00000574423.2, intron 1 of 4)</td>\n",
       "      <td>Intergenic</td>\n",
       "      <td>-2579</td>\n",
       "      <td>ENST00000622849.1</td>\n",
       "      <td>102465134.0</td>\n",
       "      <td>NaN</td>\n",
       "      <td>NR_106741</td>\n",
       "      <td>ENSG00000273776</td>\n",
       "      <td>MIR6126</td>\n",
       "      <td>hsa-mir-6126</td>\n",
       "      <td>microRNA 6126</td>\n",
       "      <td>ncRNA</td>\n",
       "      <td>2579</td>\n",
       "    </tr>\n",
       "    <tr>\n",
       "      <th>1</th>\n",
       "      <td>chr3-1047</td>\n",
       "      <td>chr3</td>\n",
       "      <td>127088860</td>\n",
       "      <td>127089087</td>\n",
       "      <td>+</td>\n",
       "      <td>1</td>\n",
       "      <td>NaN</td>\n",
       "      <td>Intergenic</td>\n",
       "      <td>Intergenic</td>\n",
       "      <td>57118</td>\n",
       "      <td>ENST00000505278.1</td>\n",
       "      <td>NaN</td>\n",
       "      <td>NaN</td>\n",
       "      <td>NaN</td>\n",
       "      <td>NaN</td>\n",
       "      <td>NaN</td>\n",
       "      <td>NaN</td>\n",
       "      <td>NaN</td>\n",
       "      <td>NaN</td>\n",
       "      <td>57118</td>\n",
       "    </tr>\n",
       "    <tr>\n",
       "      <th>2</th>\n",
       "      <td>chr15-3692</td>\n",
       "      <td>chr15</td>\n",
       "      <td>40746539</td>\n",
       "      <td>40746774</td>\n",
       "      <td>+</td>\n",
       "      <td>1</td>\n",
       "      <td>NaN</td>\n",
       "      <td>intron (ENST00000558777.5, intron 5 of 13)</td>\n",
       "      <td>intron (NM_018145, intron 4 of 12)</td>\n",
       "      <td>1126</td>\n",
       "      <td>ENST00000558364.1</td>\n",
       "      <td>NaN</td>\n",
       "      <td>NaN</td>\n",
       "      <td>NaN</td>\n",
       "      <td>NaN</td>\n",
       "      <td>NaN</td>\n",
       "      <td>NaN</td>\n",
       "      <td>NaN</td>\n",
       "      <td>NaN</td>\n",
       "      <td>1126</td>\n",
       "    </tr>\n",
       "    <tr>\n",
       "      <th>3</th>\n",
       "      <td>chr5-14</td>\n",
       "      <td>chr5</td>\n",
       "      <td>56757122</td>\n",
       "      <td>56757319</td>\n",
       "      <td>+</td>\n",
       "      <td>1</td>\n",
       "      <td>NaN</td>\n",
       "      <td>Intergenic</td>\n",
       "      <td>Intergenic</td>\n",
       "      <td>-13579</td>\n",
       "      <td>ENST00000438117.2</td>\n",
       "      <td>NaN</td>\n",
       "      <td>NaN</td>\n",
       "      <td>NaN</td>\n",
       "      <td>NaN</td>\n",
       "      <td>NaN</td>\n",
       "      <td>NaN</td>\n",
       "      <td>NaN</td>\n",
       "      <td>NaN</td>\n",
       "      <td>13579</td>\n",
       "    </tr>\n",
       "    <tr>\n",
       "      <th>4</th>\n",
       "      <td>chr3-297</td>\n",
       "      <td>chr3</td>\n",
       "      <td>151305198</td>\n",
       "      <td>151305406</td>\n",
       "      <td>+</td>\n",
       "      <td>1</td>\n",
       "      <td>NaN</td>\n",
       "      <td>intron (ENST00000260843.5, intron 1 of 2)</td>\n",
       "      <td>MamRTE1|LINE|RTE-BovB</td>\n",
       "      <td>-10018</td>\n",
       "      <td>ENST00000629077.1</td>\n",
       "      <td>NaN</td>\n",
       "      <td>NaN</td>\n",
       "      <td>NaN</td>\n",
       "      <td>NaN</td>\n",
       "      <td>NaN</td>\n",
       "      <td>NaN</td>\n",
       "      <td>NaN</td>\n",
       "      <td>NaN</td>\n",
       "      <td>10018</td>\n",
       "    </tr>\n",
       "    <tr>\n",
       "      <th>...</th>\n",
       "      <td>...</td>\n",
       "      <td>...</td>\n",
       "      <td>...</td>\n",
       "      <td>...</td>\n",
       "      <td>...</td>\n",
       "      <td>...</td>\n",
       "      <td>...</td>\n",
       "      <td>...</td>\n",
       "      <td>...</td>\n",
       "      <td>...</td>\n",
       "      <td>...</td>\n",
       "      <td>...</td>\n",
       "      <td>...</td>\n",
       "      <td>...</td>\n",
       "      <td>...</td>\n",
       "      <td>...</td>\n",
       "      <td>...</td>\n",
       "      <td>...</td>\n",
       "      <td>...</td>\n",
       "      <td>...</td>\n",
       "    </tr>\n",
       "    <tr>\n",
       "      <th>6725</th>\n",
       "      <td>chr7-538</td>\n",
       "      <td>chr7</td>\n",
       "      <td>92245910</td>\n",
       "      <td>92246105</td>\n",
       "      <td>+</td>\n",
       "      <td>1</td>\n",
       "      <td>NaN</td>\n",
       "      <td>promoter-TSS (ENST00000394503.6)</td>\n",
       "      <td>promoter-TSS (NM_001350689)</td>\n",
       "      <td>16</td>\n",
       "      <td>ENST00000691239.1</td>\n",
       "      <td>NaN</td>\n",
       "      <td>NaN</td>\n",
       "      <td>NaN</td>\n",
       "      <td>NaN</td>\n",
       "      <td>NaN</td>\n",
       "      <td>NaN</td>\n",
       "      <td>NaN</td>\n",
       "      <td>NaN</td>\n",
       "      <td>16</td>\n",
       "    </tr>\n",
       "    <tr>\n",
       "      <th>6726</th>\n",
       "      <td>chr20-755</td>\n",
       "      <td>chr20</td>\n",
       "      <td>58856004</td>\n",
       "      <td>58856106</td>\n",
       "      <td>+</td>\n",
       "      <td>1</td>\n",
       "      <td>NaN</td>\n",
       "      <td>TTS (ENST00000306120.4)</td>\n",
       "      <td>CpG-17920</td>\n",
       "      <td>2789</td>\n",
       "      <td>ENST00000349036.9</td>\n",
       "      <td>NaN</td>\n",
       "      <td>NaN</td>\n",
       "      <td>NaN</td>\n",
       "      <td>NaN</td>\n",
       "      <td>NaN</td>\n",
       "      <td>NaN</td>\n",
       "      <td>NaN</td>\n",
       "      <td>NaN</td>\n",
       "      <td>2789</td>\n",
       "    </tr>\n",
       "    <tr>\n",
       "      <th>6727</th>\n",
       "      <td>chr19-1897</td>\n",
       "      <td>chr19</td>\n",
       "      <td>11264449</td>\n",
       "      <td>11264622</td>\n",
       "      <td>+</td>\n",
       "      <td>1</td>\n",
       "      <td>NaN</td>\n",
       "      <td>Intergenic</td>\n",
       "      <td>Intergenic</td>\n",
       "      <td>-2011</td>\n",
       "      <td>ENST00000294618.12</td>\n",
       "      <td>57572.0</td>\n",
       "      <td>Hs.591002</td>\n",
       "      <td>NM_020812</td>\n",
       "      <td>ENSG00000130158</td>\n",
       "      <td>DOCK6</td>\n",
       "      <td>AOS2|ZIR1</td>\n",
       "      <td>dedicator of cytokinesis 6</td>\n",
       "      <td>protein-coding</td>\n",
       "      <td>2011</td>\n",
       "    </tr>\n",
       "    <tr>\n",
       "      <th>6728</th>\n",
       "      <td>chr6-4495</td>\n",
       "      <td>chr6</td>\n",
       "      <td>45675981</td>\n",
       "      <td>45676075</td>\n",
       "      <td>+</td>\n",
       "      <td>1</td>\n",
       "      <td>NaN</td>\n",
       "      <td>Intergenic</td>\n",
       "      <td>Intergenic</td>\n",
       "      <td>-99258</td>\n",
       "      <td>ENST00000563807.1</td>\n",
       "      <td>NaN</td>\n",
       "      <td>NaN</td>\n",
       "      <td>NaN</td>\n",
       "      <td>NaN</td>\n",
       "      <td>NaN</td>\n",
       "      <td>NaN</td>\n",
       "      <td>NaN</td>\n",
       "      <td>NaN</td>\n",
       "      <td>99258</td>\n",
       "    </tr>\n",
       "    <tr>\n",
       "      <th>6729</th>\n",
       "      <td>chr14-40</td>\n",
       "      <td>chr14</td>\n",
       "      <td>60649072</td>\n",
       "      <td>60649277</td>\n",
       "      <td>+</td>\n",
       "      <td>1</td>\n",
       "      <td>NaN</td>\n",
       "      <td>exon (ENST00000645694.3, exon 1 of 2)</td>\n",
       "      <td>exon (NM_005982, exon 1 of 2)</td>\n",
       "      <td>303</td>\n",
       "      <td>ENST00000645694.3</td>\n",
       "      <td>6495.0</td>\n",
       "      <td>Hs.633506</td>\n",
       "      <td>NM_005982</td>\n",
       "      <td>ENSG00000126778</td>\n",
       "      <td>SIX1</td>\n",
       "      <td>BOS3|DFNA23|TIP39</td>\n",
       "      <td>SIX homeobox 1</td>\n",
       "      <td>protein-coding</td>\n",
       "      <td>303</td>\n",
       "    </tr>\n",
       "  </tbody>\n",
       "</table>\n",
       "<p>6730 rows × 20 columns</p>\n",
       "</div>"
      ],
      "text/plain": [
       "     PeakID (cmd=annotatePeaks.pl results/RUNX1_intersect_peak_filtered.bed hg38 -gtf results/gencode.v45.primary_assembly.annotation.gtf)  \\\n",
       "0                                             chr16-395                                                                                      \n",
       "1                                             chr3-1047                                                                                      \n",
       "2                                            chr15-3692                                                                                      \n",
       "3                                               chr5-14                                                                                      \n",
       "4                                              chr3-297                                                                                      \n",
       "...                                                 ...                                                                                      \n",
       "6725                                           chr7-538                                                                                      \n",
       "6726                                          chr20-755                                                                                      \n",
       "6727                                         chr19-1897                                                                                      \n",
       "6728                                          chr6-4495                                                                                      \n",
       "6729                                           chr14-40                                                                                      \n",
       "\n",
       "        Chr      Start        End Strand  Peak Score  Focus Ratio/Region Size  \\\n",
       "0     chr16    3487961    3488135      +           1                      NaN   \n",
       "1      chr3  127088860  127089087      +           1                      NaN   \n",
       "2     chr15   40746539   40746774      +           1                      NaN   \n",
       "3      chr5   56757122   56757319      +           1                      NaN   \n",
       "4      chr3  151305198  151305406      +           1                      NaN   \n",
       "...     ...        ...        ...    ...         ...                      ...   \n",
       "6725   chr7   92245910   92246105      +           1                      NaN   \n",
       "6726  chr20   58856004   58856106      +           1                      NaN   \n",
       "6727  chr19   11264449   11264622      +           1                      NaN   \n",
       "6728   chr6   45675981   45676075      +           1                      NaN   \n",
       "6729  chr14   60649072   60649277      +           1                      NaN   \n",
       "\n",
       "                                      Annotation  \\\n",
       "0      intron (ENST00000574423.2, intron 1 of 4)   \n",
       "1                                     Intergenic   \n",
       "2     intron (ENST00000558777.5, intron 5 of 13)   \n",
       "3                                     Intergenic   \n",
       "4      intron (ENST00000260843.5, intron 1 of 2)   \n",
       "...                                          ...   \n",
       "6725            promoter-TSS (ENST00000394503.6)   \n",
       "6726                     TTS (ENST00000306120.4)   \n",
       "6727                                  Intergenic   \n",
       "6728                                  Intergenic   \n",
       "6729       exon (ENST00000645694.3, exon 1 of 2)   \n",
       "\n",
       "                     Detailed Annotation  Distance to TSS  Nearest PromoterID  \\\n",
       "0                             Intergenic            -2579   ENST00000622849.1   \n",
       "1                             Intergenic            57118   ENST00000505278.1   \n",
       "2     intron (NM_018145, intron 4 of 12)             1126   ENST00000558364.1   \n",
       "3                             Intergenic           -13579   ENST00000438117.2   \n",
       "4                  MamRTE1|LINE|RTE-BovB           -10018   ENST00000629077.1   \n",
       "...                                  ...              ...                 ...   \n",
       "6725         promoter-TSS (NM_001350689)               16   ENST00000691239.1   \n",
       "6726                           CpG-17920             2789   ENST00000349036.9   \n",
       "6727                          Intergenic            -2011  ENST00000294618.12   \n",
       "6728                          Intergenic           -99258   ENST00000563807.1   \n",
       "6729       exon (NM_005982, exon 1 of 2)              303   ENST00000645694.3   \n",
       "\n",
       "        Entrez ID Nearest Unigene Nearest Refseq  Nearest Ensembl Gene Name  \\\n",
       "0     102465134.0             NaN      NR_106741  ENSG00000273776   MIR6126   \n",
       "1             NaN             NaN            NaN              NaN       NaN   \n",
       "2             NaN             NaN            NaN              NaN       NaN   \n",
       "3             NaN             NaN            NaN              NaN       NaN   \n",
       "4             NaN             NaN            NaN              NaN       NaN   \n",
       "...           ...             ...            ...              ...       ...   \n",
       "6725          NaN             NaN            NaN              NaN       NaN   \n",
       "6726          NaN             NaN            NaN              NaN       NaN   \n",
       "6727      57572.0       Hs.591002      NM_020812  ENSG00000130158     DOCK6   \n",
       "6728          NaN             NaN            NaN              NaN       NaN   \n",
       "6729       6495.0       Hs.633506      NM_005982  ENSG00000126778      SIX1   \n",
       "\n",
       "             Gene Alias            Gene Description       Gene Type  \\\n",
       "0          hsa-mir-6126               microRNA 6126           ncRNA   \n",
       "1                   NaN                         NaN             NaN   \n",
       "2                   NaN                         NaN             NaN   \n",
       "3                   NaN                         NaN             NaN   \n",
       "4                   NaN                         NaN             NaN   \n",
       "...                 ...                         ...             ...   \n",
       "6725                NaN                         NaN             NaN   \n",
       "6726                NaN                         NaN             NaN   \n",
       "6727          AOS2|ZIR1  dedicator of cytokinesis 6  protein-coding   \n",
       "6728                NaN                         NaN             NaN   \n",
       "6729  BOS3|DFNA23|TIP39              SIX homeobox 1  protein-coding   \n",
       "\n",
       "      AbsDistance  \n",
       "0            2579  \n",
       "1           57118  \n",
       "2            1126  \n",
       "3           13579  \n",
       "4           10018  \n",
       "...           ...  \n",
       "6725           16  \n",
       "6726         2789  \n",
       "6727         2011  \n",
       "6728        99258  \n",
       "6729          303  \n",
       "\n",
       "[6730 rows x 20 columns]"
      ]
     },
     "execution_count": 145,
     "metadata": {},
     "output_type": "execute_result"
    }
   ],
   "source": [
    "annots"
   ]
  },
  {
   "cell_type": "code",
   "execution_count": 146,
   "id": "089990c2",
   "metadata": {},
   "outputs": [],
   "source": [
    "annots=pd.read_csv('/projectnb/bf528/students/haochun/project-2-XiaoLangJun666/results/RUNX1_intersect_peak_filtered_annotated.txt',sep='\\t')"
   ]
  },
  {
   "cell_type": "code",
   "execution_count": 147,
   "id": "3415d31c",
   "metadata": {},
   "outputs": [],
   "source": [
    "annots['AbsDistance']=annots['Distance to TSS'].abs()"
   ]
  },
  {
   "cell_type": "code",
   "execution_count": 148,
   "id": "983ad44b",
   "metadata": {},
   "outputs": [
    {
     "data": {
      "text/html": [
       "<div>\n",
       "<style scoped>\n",
       "    .dataframe tbody tr th:only-of-type {\n",
       "        vertical-align: middle;\n",
       "    }\n",
       "\n",
       "    .dataframe tbody tr th {\n",
       "        vertical-align: top;\n",
       "    }\n",
       "\n",
       "    .dataframe thead th {\n",
       "        text-align: right;\n",
       "    }\n",
       "</style>\n",
       "<table border=\"1\" class=\"dataframe\">\n",
       "  <thead>\n",
       "    <tr style=\"text-align: right;\">\n",
       "      <th></th>\n",
       "      <th>genename</th>\n",
       "      <th>transcript</th>\n",
       "      <th>log2FoldChange</th>\n",
       "      <th>padj</th>\n",
       "      <th>AbsFC</th>\n",
       "    </tr>\n",
       "  </thead>\n",
       "  <tbody>\n",
       "    <tr>\n",
       "      <th>0</th>\n",
       "      <td>OARD1</td>\n",
       "      <td>NM_145063</td>\n",
       "      <td>0.186841</td>\n",
       "      <td>0.545806</td>\n",
       "      <td>0.186841</td>\n",
       "    </tr>\n",
       "    <tr>\n",
       "      <th>1</th>\n",
       "      <td>WBSCR22</td>\n",
       "      <td>NM_001202560,NM_017528,NR_037776,NR_045512</td>\n",
       "      <td>0.037881</td>\n",
       "      <td>0.907305</td>\n",
       "      <td>0.037881</td>\n",
       "    </tr>\n",
       "    <tr>\n",
       "      <th>2</th>\n",
       "      <td>PIGZ</td>\n",
       "      <td>NM_025163</td>\n",
       "      <td>0.122346</td>\n",
       "      <td>0.841445</td>\n",
       "      <td>0.122346</td>\n",
       "    </tr>\n",
       "    <tr>\n",
       "      <th>3</th>\n",
       "      <td>PRDX5</td>\n",
       "      <td>NM_012094,NM_181651,NM_181652</td>\n",
       "      <td>0.250313</td>\n",
       "      <td>0.118073</td>\n",
       "      <td>0.250313</td>\n",
       "    </tr>\n",
       "    <tr>\n",
       "      <th>4</th>\n",
       "      <td>PEX16</td>\n",
       "      <td>NM_004813,NM_057174</td>\n",
       "      <td>-0.300675</td>\n",
       "      <td>0.183572</td>\n",
       "      <td>0.300675</td>\n",
       "    </tr>\n",
       "    <tr>\n",
       "      <th>...</th>\n",
       "      <td>...</td>\n",
       "      <td>...</td>\n",
       "      <td>...</td>\n",
       "      <td>...</td>\n",
       "      <td>...</td>\n",
       "    </tr>\n",
       "    <tr>\n",
       "      <th>15429</th>\n",
       "      <td>BCKDK</td>\n",
       "      <td>NM_001122957,NM_001271926,NM_005881</td>\n",
       "      <td>0.466932</td>\n",
       "      <td>0.019819</td>\n",
       "      <td>0.466932</td>\n",
       "    </tr>\n",
       "    <tr>\n",
       "      <th>15430</th>\n",
       "      <td>SDK1</td>\n",
       "      <td>NM_001079653,NM_152744</td>\n",
       "      <td>0.016101</td>\n",
       "      <td>0.952858</td>\n",
       "      <td>0.016101</td>\n",
       "    </tr>\n",
       "    <tr>\n",
       "      <th>15431</th>\n",
       "      <td>ACSBG2</td>\n",
       "      <td>NM_001289177,NM_001289178,NM_001289179,NM_0012...</td>\n",
       "      <td>0.161475</td>\n",
       "      <td>NaN</td>\n",
       "      <td>0.161475</td>\n",
       "    </tr>\n",
       "    <tr>\n",
       "      <th>15432</th>\n",
       "      <td>SPATA6</td>\n",
       "      <td>NM_001286238,NM_001286239,NM_019073</td>\n",
       "      <td>0.280537</td>\n",
       "      <td>0.671884</td>\n",
       "      <td>0.280537</td>\n",
       "    </tr>\n",
       "    <tr>\n",
       "      <th>15433</th>\n",
       "      <td>TSPAN2</td>\n",
       "      <td>NM_005725</td>\n",
       "      <td>-1.162314</td>\n",
       "      <td>NaN</td>\n",
       "      <td>1.162314</td>\n",
       "    </tr>\n",
       "  </tbody>\n",
       "</table>\n",
       "<p>15434 rows × 5 columns</p>\n",
       "</div>"
      ],
      "text/plain": [
       "      genename                                         transcript  \\\n",
       "0        OARD1                                          NM_145063   \n",
       "1      WBSCR22         NM_001202560,NM_017528,NR_037776,NR_045512   \n",
       "2         PIGZ                                          NM_025163   \n",
       "3        PRDX5                      NM_012094,NM_181651,NM_181652   \n",
       "4        PEX16                                NM_004813,NM_057174   \n",
       "...        ...                                                ...   \n",
       "15429    BCKDK                NM_001122957,NM_001271926,NM_005881   \n",
       "15430     SDK1                             NM_001079653,NM_152744   \n",
       "15431   ACSBG2  NM_001289177,NM_001289178,NM_001289179,NM_0012...   \n",
       "15432   SPATA6                NM_001286238,NM_001286239,NM_019073   \n",
       "15433   TSPAN2                                          NM_005725   \n",
       "\n",
       "       log2FoldChange      padj     AbsFC  \n",
       "0            0.186841  0.545806  0.186841  \n",
       "1            0.037881  0.907305  0.037881  \n",
       "2            0.122346  0.841445  0.122346  \n",
       "3            0.250313  0.118073  0.250313  \n",
       "4           -0.300675  0.183572  0.300675  \n",
       "...               ...       ...       ...  \n",
       "15429        0.466932  0.019819  0.466932  \n",
       "15430        0.016101  0.952858  0.016101  \n",
       "15431        0.161475       NaN  0.161475  \n",
       "15432        0.280537  0.671884  0.280537  \n",
       "15433       -1.162314       NaN  1.162314  \n",
       "\n",
       "[15434 rows x 5 columns]"
      ]
     },
     "execution_count": 148,
     "metadata": {},
     "output_type": "execute_result"
    }
   ],
   "source": [
    "rnaseq"
   ]
  },
  {
   "cell_type": "code",
   "execution_count": 149,
   "id": "ca5c40c9",
   "metadata": {},
   "outputs": [],
   "source": [
    "rnaseq=pd.read_csv('/projectnb/bf528/students/haochun/project-2-XiaoLangJun666/results/GSE75070_MCF7_shRUNX1_shNS_RNAseq_log2_foldchange.txt',sep='\\t')"
   ]
  },
  {
   "cell_type": "code",
   "execution_count": 150,
   "id": "8a0a450c",
   "metadata": {},
   "outputs": [],
   "source": [
    "rnaseq['AbsFC']=rnaseq['log2FoldChange'].abs()"
   ]
  },
  {
   "cell_type": "code",
   "execution_count": 151,
   "id": "3cb250ed",
   "metadata": {},
   "outputs": [],
   "source": [
    "rnaseq_de=rnaseq.query('padj<0.01 & AbsFC > 1')"
   ]
  },
  {
   "cell_type": "code",
   "execution_count": 152,
   "id": "d0eb2921",
   "metadata": {},
   "outputs": [],
   "source": [
    "de_up =rnaseq_de.query('log2FoldChange > 0')['genename'].tolist()\n",
    "de_down=rnaseq_de.query('log2FoldChange < 0')['genename'].tolist()"
   ]
  },
  {
   "cell_type": "code",
   "execution_count": 153,
   "id": "51151c55",
   "metadata": {},
   "outputs": [
    {
     "data": {
      "text/plain": [
       "(687, 466)"
      ]
     },
     "execution_count": 153,
     "metadata": {},
     "output_type": "execute_result"
    }
   ],
   "source": [
    "len(de_up), len(de_down)"
   ]
  },
  {
   "cell_type": "code",
   "execution_count": 154,
   "id": "2788fdd9",
   "metadata": {},
   "outputs": [],
   "source": [
    "up_within_5=len(set(annots.query('`Gene Name` in @de_up & AbsDistance <= 5000' )[\"Gene Name\"].tolist()))\n",
    "up_notwithin_5=len(de_up)-up_within_5"
   ]
  },
  {
   "cell_type": "code",
   "execution_count": 155,
   "id": "3bdfb1bb",
   "metadata": {},
   "outputs": [
    {
     "data": {
      "text/plain": [
       "(59, 628)"
      ]
     },
     "execution_count": 155,
     "metadata": {},
     "output_type": "execute_result"
    }
   ],
   "source": [
    "up_within_5,up_notwithin_5"
   ]
  },
  {
   "cell_type": "code",
   "execution_count": 156,
   "id": "f97ddb3e",
   "metadata": {},
   "outputs": [],
   "source": [
    "down_within_5=len(set(annots.query('`Gene Name` in @de_down & AbsDistance <= 5000' )[\"Gene Name\"].tolist()))\n",
    "down_notwithin_5=len(de_down)-down_within_5"
   ]
  },
  {
   "cell_type": "code",
   "execution_count": 157,
   "id": "dc9a50cb",
   "metadata": {},
   "outputs": [
    {
     "data": {
      "text/plain": [
       "(28, 438)"
      ]
     },
     "execution_count": 157,
     "metadata": {},
     "output_type": "execute_result"
    }
   ],
   "source": [
    "down_within_5, down_notwithin_5"
   ]
  },
  {
   "cell_type": "code",
   "execution_count": 158,
   "id": "25658100",
   "metadata": {},
   "outputs": [],
   "source": [
    "up_within_20=len(set(annots.query('`Gene Name` in @de_up & AbsDistance <= 20000' )[\"Gene Name\"].tolist()))\n",
    "up_notwithin_20=len(de_up)-up_within_20"
   ]
  },
  {
   "cell_type": "code",
   "execution_count": 159,
   "id": "633b1f47",
   "metadata": {},
   "outputs": [
    {
     "data": {
      "text/plain": [
       "(70, 617)"
      ]
     },
     "execution_count": 159,
     "metadata": {},
     "output_type": "execute_result"
    }
   ],
   "source": [
    "up_within_20,up_notwithin_20"
   ]
  },
  {
   "cell_type": "code",
   "execution_count": 160,
   "id": "9ca41e1b",
   "metadata": {},
   "outputs": [],
   "source": [
    "down_within_20=len(set(annots.query('`Gene Name` in @de_down & AbsDistance <= 20000' )[\"Gene Name\"].tolist()))\n",
    "down_notwithin_20=len(de_down)-down_within_20"
   ]
  },
  {
   "cell_type": "code",
   "execution_count": 161,
   "id": "ba3f76eb",
   "metadata": {},
   "outputs": [
    {
     "data": {
      "text/plain": [
       "(33, 433)"
      ]
     },
     "execution_count": 161,
     "metadata": {},
     "output_type": "execute_result"
    }
   ],
   "source": [
    "down_within_20, down_notwithin_20"
   ]
  },
  {
   "cell_type": "code",
   "execution_count": 162,
   "id": "7522acd8",
   "metadata": {},
   "outputs": [],
   "source": [
    "up_within_100=len(set(annots.query('`Gene Name` in @de_up & AbsDistance <= 100000' )[\"Gene Name\"].tolist()))\n",
    "up_notwithin_100=len(de_up)-up_within_100"
   ]
  },
  {
   "cell_type": "code",
   "execution_count": 163,
   "id": "c4cf9109",
   "metadata": {},
   "outputs": [
    {
     "data": {
      "text/plain": [
       "73"
      ]
     },
     "execution_count": 163,
     "metadata": {},
     "output_type": "execute_result"
    }
   ],
   "source": [
    "len(set(annots.query('`Gene Name` in @de_up ' )[\"Gene Name\"].tolist()))"
   ]
  },
  {
   "cell_type": "code",
   "execution_count": 164,
   "id": "b3253324",
   "metadata": {},
   "outputs": [
    {
     "data": {
      "text/plain": [
       "(73, 614)"
      ]
     },
     "execution_count": 164,
     "metadata": {},
     "output_type": "execute_result"
    }
   ],
   "source": [
    "up_within_100,up_notwithin_100"
   ]
  },
  {
   "cell_type": "code",
   "execution_count": 165,
   "id": "a9c9d514",
   "metadata": {},
   "outputs": [],
   "source": [
    "down_within_100=len(set(annots.query('`Gene Name` in @de_down & AbsDistance <= 100000' )[\"Gene Name\"].tolist()))\n",
    "down_notwithin_100=len(de_down)-down_within_100"
   ]
  },
  {
   "cell_type": "code",
   "execution_count": 166,
   "id": "f386e3b2",
   "metadata": {},
   "outputs": [
    {
     "data": {
      "text/plain": [
       "{'ADRA2C',\n",
       " 'ALS2CL',\n",
       " 'BNC1',\n",
       " 'C1GALT1C1',\n",
       " 'C6orf141',\n",
       " 'CACNA1D',\n",
       " 'CD47',\n",
       " 'CEP290',\n",
       " 'EDN1',\n",
       " 'EPHA4',\n",
       " 'FAM110A',\n",
       " 'FHL2',\n",
       " 'FRA10AC1',\n",
       " 'FRMD3',\n",
       " 'GOLM1',\n",
       " 'HSPA6',\n",
       " 'HSPB8',\n",
       " 'IFFO2',\n",
       " 'IGDCC3',\n",
       " 'INHBB',\n",
       " 'ITGB6',\n",
       " 'KCNJ3',\n",
       " 'KLHL17',\n",
       " 'LOC284454',\n",
       " 'LOXL4',\n",
       " 'LPIN3',\n",
       " 'MALAT1',\n",
       " 'MESP2',\n",
       " 'PAN2',\n",
       " 'PLEKHG4B',\n",
       " 'PRPF3',\n",
       " 'RAD52',\n",
       " 'SYT12',\n",
       " 'TACC1',\n",
       " 'USPL1',\n",
       " 'VASN',\n",
       " 'WISP2',\n",
       " 'ZNF75D'}"
      ]
     },
     "execution_count": 166,
     "metadata": {},
     "output_type": "execute_result"
    }
   ],
   "source": [
    "set(annots.query('`Gene Name` in @de_down & AbsDistance < 100000')[\"Gene Name\"].tolist())"
   ]
  },
  {
   "cell_type": "code",
   "execution_count": 167,
   "id": "252e7f2a",
   "metadata": {},
   "outputs": [
    {
     "data": {
      "text/plain": [
       "(38, 428)"
      ]
     },
     "execution_count": 167,
     "metadata": {},
     "output_type": "execute_result"
    }
   ],
   "source": [
    "down_within_100, down_notwithin_100"
   ]
  },
  {
   "cell_type": "code",
   "execution_count": 168,
   "id": "d12ff1cd",
   "metadata": {},
   "outputs": [],
   "source": [
    "bound=[up_within_5,up_within_20,up_within_100,down_within_5,down_within_20,down_within_100]\n",
    "unbound=[up_notwithin_5,up_notwithin_20,up_notwithin_100,down_notwithin_5,down_notwithin_20,down_notwithin_100]"
   ]
  },
  {
   "cell_type": "code",
   "execution_count": 169,
   "id": "ea3d0fa2",
   "metadata": {},
   "outputs": [],
   "source": [
    "import matplotlib.pyplot as plt"
   ]
  },
  {
   "cell_type": "code",
   "execution_count": 170,
   "id": "6f617aac",
   "metadata": {},
   "outputs": [],
   "source": [
    "dt={\n",
    "    'bound':['bound' for _ in range(6)]+['unbound' for _ in range(6)],\n",
    "    'range':['5k-Up-regulated','5k-Down-regulated','20k-Up-regulated','20k-Down-regulated','100k-Up-regulated','100k-Down-regulated','5k-Up-regulated','5k-Down-regulated','20k-Up-regulated','20k-Down-regulated','100k-Up-regulated','100k-Down-regulated'],\n",
    "    'count':[up_within_5,down_within_5,up_within_20,down_within_20,up_within_100,down_within_100,up_notwithin_5,down_notwithin_5,up_notwithin_20,down_notwithin_20,up_notwithin_100,down_notwithin_100]\n",
    "}"
   ]
  },
  {
   "cell_type": "code",
   "execution_count": 171,
   "id": "03f3c6f0",
   "metadata": {},
   "outputs": [],
   "source": [
    "dt=pd.DataFrame(dt)"
   ]
  },
  {
   "cell_type": "code",
   "execution_count": 172,
   "id": "22be0ef4",
   "metadata": {},
   "outputs": [
    {
     "data": {
      "text/html": [
       "<div>\n",
       "<style scoped>\n",
       "    .dataframe tbody tr th:only-of-type {\n",
       "        vertical-align: middle;\n",
       "    }\n",
       "\n",
       "    .dataframe tbody tr th {\n",
       "        vertical-align: top;\n",
       "    }\n",
       "\n",
       "    .dataframe thead th {\n",
       "        text-align: right;\n",
       "    }\n",
       "</style>\n",
       "<table border=\"1\" class=\"dataframe\">\n",
       "  <thead>\n",
       "    <tr style=\"text-align: right;\">\n",
       "      <th></th>\n",
       "      <th>bound</th>\n",
       "      <th>range</th>\n",
       "      <th>count</th>\n",
       "    </tr>\n",
       "  </thead>\n",
       "  <tbody>\n",
       "    <tr>\n",
       "      <th>0</th>\n",
       "      <td>bound</td>\n",
       "      <td>5k-Up-regulated</td>\n",
       "      <td>59</td>\n",
       "    </tr>\n",
       "    <tr>\n",
       "      <th>1</th>\n",
       "      <td>bound</td>\n",
       "      <td>5k-Down-regulated</td>\n",
       "      <td>28</td>\n",
       "    </tr>\n",
       "    <tr>\n",
       "      <th>2</th>\n",
       "      <td>bound</td>\n",
       "      <td>20k-Up-regulated</td>\n",
       "      <td>70</td>\n",
       "    </tr>\n",
       "    <tr>\n",
       "      <th>3</th>\n",
       "      <td>bound</td>\n",
       "      <td>20k-Down-regulated</td>\n",
       "      <td>33</td>\n",
       "    </tr>\n",
       "    <tr>\n",
       "      <th>4</th>\n",
       "      <td>bound</td>\n",
       "      <td>100k-Up-regulated</td>\n",
       "      <td>73</td>\n",
       "    </tr>\n",
       "    <tr>\n",
       "      <th>5</th>\n",
       "      <td>bound</td>\n",
       "      <td>100k-Down-regulated</td>\n",
       "      <td>38</td>\n",
       "    </tr>\n",
       "    <tr>\n",
       "      <th>6</th>\n",
       "      <td>unbound</td>\n",
       "      <td>5k-Up-regulated</td>\n",
       "      <td>628</td>\n",
       "    </tr>\n",
       "    <tr>\n",
       "      <th>7</th>\n",
       "      <td>unbound</td>\n",
       "      <td>5k-Down-regulated</td>\n",
       "      <td>438</td>\n",
       "    </tr>\n",
       "    <tr>\n",
       "      <th>8</th>\n",
       "      <td>unbound</td>\n",
       "      <td>20k-Up-regulated</td>\n",
       "      <td>617</td>\n",
       "    </tr>\n",
       "    <tr>\n",
       "      <th>9</th>\n",
       "      <td>unbound</td>\n",
       "      <td>20k-Down-regulated</td>\n",
       "      <td>433</td>\n",
       "    </tr>\n",
       "    <tr>\n",
       "      <th>10</th>\n",
       "      <td>unbound</td>\n",
       "      <td>100k-Up-regulated</td>\n",
       "      <td>614</td>\n",
       "    </tr>\n",
       "    <tr>\n",
       "      <th>11</th>\n",
       "      <td>unbound</td>\n",
       "      <td>100k-Down-regulated</td>\n",
       "      <td>428</td>\n",
       "    </tr>\n",
       "  </tbody>\n",
       "</table>\n",
       "</div>"
      ],
      "text/plain": [
       "      bound                range  count\n",
       "0     bound      5k-Up-regulated     59\n",
       "1     bound    5k-Down-regulated     28\n",
       "2     bound     20k-Up-regulated     70\n",
       "3     bound   20k-Down-regulated     33\n",
       "4     bound    100k-Up-regulated     73\n",
       "5     bound  100k-Down-regulated     38\n",
       "6   unbound      5k-Up-regulated    628\n",
       "7   unbound    5k-Down-regulated    438\n",
       "8   unbound     20k-Up-regulated    617\n",
       "9   unbound   20k-Down-regulated    433\n",
       "10  unbound    100k-Up-regulated    614\n",
       "11  unbound  100k-Down-regulated    428"
      ]
     },
     "execution_count": 172,
     "metadata": {},
     "output_type": "execute_result"
    }
   ],
   "source": [
    "dt"
   ]
  },
  {
   "cell_type": "code",
   "execution_count": 173,
   "id": "219e250a",
   "metadata": {},
   "outputs": [],
   "source": [
    "x=['5k-Up-regulated','5k-Down-regulated','20k-Up-regulated','20k-Down-regulated','100k-Up-regulated','100k-Down-regulated']\n",
    "y1=dt.loc[dt['bound']=='bound','count']\n",
    "y2=dt.loc[dt['bound']=='unbound','count']"
   ]
  },
  {
   "cell_type": "code",
   "execution_count": 174,
   "id": "6181bf36",
   "metadata": {},
   "outputs": [
    {
     "data": {
      "image/png": "[encoded data removed]",
      "text/plain": [
       "<Figure size 1200x600 with 1 Axes>"
      ]
     },
     "metadata": {},
     "output_type": "display_data"
    }
   ],
   "source": [
    "plt.figure(figsize=(12,6))\n",
    "bars1=plt.bar(x,y1,color='r')\n",
    "bars2=plt.bar(x,y2,bottom=y1,color='grey')\n",
    "plt.legend(['bound','unbound'])\n",
    "for bar, value in zip(bars1, y1):\n",
    "    plt.text(bar.get_x() + bar.get_width()/2, bar.get_height()/2, str(value), ha='center', va='center')\n",
    "\n",
    "for bar, value in zip(bars2, y2):\n",
    "    plt.text(bar.get_x() + bar.get_width()/2, bar.get_y() + bar.get_height()/2, str(value), ha='center', va='center')\n",
    "plt.show()"
   ]
  },
  {
   "cell_type": "code",
   "execution_count": 179,
   "id": "7fe1e0e6",
   "metadata": {},
   "outputs": [
    {
     "data": {
      "text/plain": [
       "38"
      ]
     },
     "execution_count": 179,
     "metadata": {},
     "output_type": "execute_result"
    }
   ],
   "source": [
    "len(set(annots.query('`Gene Name` in @de_down ')[\"Gene Name\"].tolist()))"
   ]
  },
  {
   "cell_type": "code",
   "execution_count": null,
   "id": "88420213",
   "metadata": {},
   "outputs": [],
   "source": []
  }
 ],
 "metadata": {
  "kernelspec": {
   "display_name": "Python 3 (ipykernel)",
   "language": "python",
   "name": "python3"
  },
  "language_info": {
   "codemirror_mode": {
    "name": "ipython",
    "version": 3
   },
   "file_extension": ".py",
   "mimetype": "text/x-python",
   "name": "python",
   "nbconvert_exporter": "python",
   "pygments_lexer": "ipython3",
   "version": "3.10.12"
  }
 },
 "nbformat": 4,
 "nbformat_minor": 5
}
