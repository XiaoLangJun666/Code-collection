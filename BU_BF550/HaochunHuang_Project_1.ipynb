{
 "cells": [
  {
   "cell_type": "markdown",
   "id": "a6c22f62-b050-41b7-bf9e-9019761b83b1",
   "metadata": {},
   "source": [
    "# Task 1: Coding the Central Dogma"
   ]
  },
  {
   "cell_type": "markdown",
   "id": "97c7d7a0-752a-4b05-882b-ced5ac118b70",
   "metadata": {},
   "source": [
    "## 1.1 Write a function that finds the complementary sequence of a given DNA sequence"
   ]
  },
  {
   "cell_type": "code",
   "execution_count": 101,
   "id": "8a9c855c-398b-4cac-8ab3-603fc8a7f3f3",
   "metadata": {},
   "outputs": [],
   "source": [
    "def dna_complementary(seq,direction):\n",
    "    # set a parameter to test if the input is available\n",
    "    rnd = True\n",
    "    # set a for loop to look through each character in the sequence. Here use the seq.upper() to distinguish the unavailable input\n",
    "    #that contains lower case to not nucleotide character. \n",
    "    #Transform sequence to upper case.\n",
    "    for s in str(seq):\n",
    "            #If the character is not A or T or C or G, set the parameter 'rnd' to false indicate the input is unavailable \n",
    "            #which contain none-nucleotide character.\n",
    "            if s not in [\"A\",\"C\",\"G\",'T','a','c','t','g']:\n",
    "                rnd =False\n",
    "    \n",
    "    #If statement to judge whethter the input contain non-nucleotide character.\n",
    "    if rnd==True:\n",
    "        seq=seq.upper()\n",
    "        #If statement to judge whether the input parameter is the same direction or reverse.\n",
    "        if direction=='same':\n",
    "            #Set a parameter 'new_str' to storage the generated complementary sequence.\n",
    "            new_str=''\n",
    "            #According to the complementarity principle generates the new string.\n",
    "            #Here we use the ascII table to transfer the  character\n",
    "            #In ASCII table, whether the character is upper case or lower case, there substraction is constant.\n",
    "            #Thus We just need one if statement to transfer for example G to C or g to c.\n",
    "            #The ord can transfer character to number and chr transfer number to character in ASCII.\n",
    "            for s in range(0,len(seq)):\n",
    "                if seq[s]==\"G\":\n",
    "                    new_str=new_str+ chr(ord(seq[s])-4)\n",
    "                elif seq[s]==\"C\":\n",
    "                    new_str=new_str+chr(ord(seq[s])+4)\n",
    "                elif seq[s]==\"A\":\n",
    "                    new_str=new_str+chr(ord(seq[s])+19)\n",
    "                elif seq[s]==\"T\":\n",
    "                    new_str=new_str+chr(ord(seq[s])-19) \n",
    "            return (new_str)\n",
    "        \n",
    "        elif direction ==\"reverse\":\n",
    "            #Set a parameter 'new_str' to storage the generated complementary sequence.\n",
    "            new_str=''\n",
    "            #Set a parameter 'long' to indicate the position of the last character.\n",
    "            long=len(seq)-1\n",
    "            \n",
    "            #According to the complementarity principle generates the new string.\n",
    "            #Here we use the ascII table to transfer the  character\n",
    "            #In ASCII table, whether the character is upper case or lower case, there substraction is constant.\n",
    "            #Thus We just need one if statement to transfer for example G to C or g to c.\n",
    "            #The ord can transfer character to number and chr transfer number to character in ASCII.\n",
    "            \n",
    "            for s in range(0,len(seq)):\n",
    "                # long-s indicate the corresponding position of reverse sequence and same sequence\n",
    "                if seq[long-s]==\"G\":\n",
    "                    new_str=new_str+ chr(ord(seq[long-s])-4)\n",
    "                elif seq[long-s]==\"C\":\n",
    "                    new_str=new_str+chr(ord(seq[long-s])+4)\n",
    "                elif seq[long-s]==\"A\":\n",
    "                    new_str=new_str+chr(ord(seq[long-s])+19)\n",
    "                elif seq[long-s]==\"T\":\n",
    "                    new_str=new_str+chr(ord(seq[long-s])-19) \n",
    "            return (new_str)\n",
    "        else:\n",
    "            raise ValueError(\"Invalid direction argument\")\n",
    "    else:\n",
    "        raise ValueError(\"Sequence is non-canonical\")"
   ]
  },
  {
   "cell_type": "code",
   "execution_count": 121,
   "id": "96a6d224",
   "metadata": {
    "scrolled": true
   },
   "outputs": [],
   "source": [
    "# print(dna_complementary(\"ATCG\", direction=\"reverse\"))\n",
    "# print(dna_complementary(\"atcg\", direction=\"same\"))\n",
    "# print(dna_complementary(\"ATCG#$%^TTT\", direction=\"same\"))\n",
    "# print(dna_complementary(23456, direction=\"same\"))\n",
    "# print(dna_complementary('ATCG',direction='yes'))"
   ]
  },
  {
   "cell_type": "markdown",
   "id": "49a0f4d0-572d-4f77-89a3-2d389dad013d",
   "metadata": {},
   "source": [
    "## 1.2 Write a function that finds the RNA sequence of a given DNA sequence"
   ]
  },
  {
   "cell_type": "code",
   "execution_count": 105,
   "id": "3346a800-43b5-41a0-af2e-b812c6c7df42",
   "metadata": {},
   "outputs": [],
   "source": [
    "def dna_rna(seq):\n",
    "    # set a parameter to test if the input is available\n",
    "    rnd = True\n",
    "    # set a for loop to look through each character in the sequence. Here use the seq.upper() to distinguish the unavailable input\n",
    "    #that contains lower case to not nucleotide character. \n",
    "    #Transform sequence to upper case.\n",
    "    for s in str(seq):\n",
    "            #If the character is not A or T or C or G or U, set the parameter 'rnd' to false indicate the input is unavailable \n",
    "            #which contain none-nucleotide character.\n",
    "            if s not in [\"A\",\"C\",\"G\",'T','a','c','t','g','U','u']:\n",
    "                rnd =False\n",
    "    if rnd==True:\n",
    "        seq=seq.upper()\n",
    "        # Check if 'U' is present and 'T' is not, which would indicate the input is an RNA sequence, not DNA.\n",
    "        if 'U' in seq and 'T' not in seq:\n",
    "            return (print('Input sequence is a RNA sequence.',seq,sep='\\n'))\n",
    "        elif 'U' not in seq:\n",
    "            return (seq.replace('T','U'))\n",
    "    else:\n",
    "        # If the input sequence contained invalid characters, raise a ValueError.\n",
    "        raise ValueError('Sequence is non-canonical')\n"
   ]
  },
  {
   "cell_type": "code",
   "execution_count": 107,
   "id": "0d9fa62c",
   "metadata": {
    "scrolled": false
   },
   "outputs": [
    {
     "name": "stdout",
     "output_type": "stream",
     "text": [
      "AUCG\n",
      "Input sequence is a RNA sequence.\n",
      "AUCG\n",
      "None\n"
     ]
    }
   ],
   "source": [
    "# print(dna_rna(\"ATCG\"))\n",
    "# print(dna_rna(\"AUCG\"))\n",
    "# print(dna_rna(\"%^$#\"))\n",
    "\n"
   ]
  },
  {
   "cell_type": "markdown",
   "id": "3894c5cf-38ba-46df-aa76-91284170edda",
   "metadata": {},
   "source": [
    "## 1.3 Write a function that finds the amino acid sequence of a given RNA sequence"
   ]
  },
  {
   "cell_type": "code",
   "execution_count": 108,
   "id": "700233a6-c1dd-4a61-8921-63eaf5ca3f69",
   "metadata": {},
   "outputs": [],
   "source": [
    "def rna_aa(seq):\n",
    "    #Need to define a dictionary of triplet to amino acid mappings.\n",
    "    codon_table = {\n",
    "    \"UUU\": \"F\", \"UUC\": \"F\", \"UUA\": \"L\", \"UUG\": \"L\",\n",
    "    \"CUU\": \"L\", \"CUC\": \"L\", \"CUA\": \"L\", \"CUG\": \"L\",\n",
    "    \"AUU\": \"I\", \"AUC\": \"I\", \"AUA\": \"I\", \"AUG\": \"M\",\n",
    "    \"GUU\": \"V\", \"GUC\": \"V\", \"GUA\": \"V\", \"GUG\": \"V\",\n",
    "    \"UCU\": \"S\", \"UCC\": \"S\", \"UCA\": \"S\", \"UCG\": \"S\",\n",
    "    \"CCU\": \"P\", \"CCC\": \"P\", \"CCA\": \"P\", \"CCG\": \"P\",\n",
    "    \"ACU\": \"T\", \"ACC\": \"T\", \"ACA\": \"T\", \"ACG\": \"T\",\n",
    "    \"GCU\": \"A\", \"GCC\": \"A\", \"GCA\": \"A\", \"GCG\": \"A\",\n",
    "    \"UAU\": \"Y\", \"UAC\": \"Y\", \"UAA\": \"*\", \"UAG\": \"*\",\n",
    "    \"CAU\": \"H\", \"CAC\": \"H\", \"CAA\": \"Q\", \"CAG\": \"Q\",\n",
    "    \"AAU\": \"N\", \"AAC\": \"N\", \"AAA\": \"K\", \"AAG\": \"K\",\n",
    "    \"GAU\": \"D\", \"GAC\": \"D\", \"GAA\": \"E\", \"GAG\": \"E\",\n",
    "    \"UGU\": \"C\", \"UGC\": \"C\", \"UGA\": \"*\", \"UGG\": \"W\",\n",
    "    \"CGU\": \"R\", \"CGC\": \"R\", \"CGA\": \"R\", \"CGG\": \"R\",\n",
    "    \"AGU\": \"S\", \"AGC\": \"S\", \"AGA\": \"R\", \"AGG\": \"R\",\n",
    "    \"GGU\": \"G\", \"GGC\": \"G\", \"GGA\": \"G\", \"GGG\": \"G\"}\n",
    "    amino_acids=''\n",
    "     # Initialize a counter to track the position in the sequence.\n",
    "    i=0\n",
    "    # Loop through the sequence, reading three nucleotides at a time.\n",
    "    while i+3<=len(seq):\n",
    "         # Extract the codon from the sequence.\n",
    "        codon =seq[i:i+3]\n",
    "        if codon in codon_table:\n",
    "            # Append the corresponding amino acid to the amino acid sequence.\n",
    "            amino_acids+=codon_table[codon]\n",
    "        else:\n",
    "             # Print an error message and break out of the loop if an invalid codon is encountered.\n",
    "            print( f\"Value Error: 'Sequence is non-canonical'\")\n",
    "            break\n",
    "       # Increment the counter by 3 to move to the next codon.     \n",
    "        i+=3\n",
    "    # Return the amino acid sequence.     \n",
    "    return (amino_acids)"
   ]
  },
  {
   "cell_type": "markdown",
   "id": "71b20380-906b-4a53-adf4-f0b43a0349e3",
   "metadata": {},
   "source": [
    "## 1.4 Tying it all together: Write a higher-order function that combines 1.1-1.3."
   ]
  },
  {
   "cell_type": "code",
   "execution_count": 109,
   "id": "4d88a10f-3598-4650-b87a-e35b7ec997a5",
   "metadata": {},
   "outputs": [],
   "source": [
    "def dna_aa(seq,direction):\n",
    "    # Convert the given DNA sequence to its complementary strand based on the specified direction.\n",
    "\n",
    "    dna_to_comp=dna_complementary(seq,direction)\n",
    "    # Transcribe the complementary DNA sequence to RNA.\n",
    "\n",
    "    comp_to_rna=dna_rna(dna_to_comp)\n",
    "    # Translate the RNA sequence to its corresponding amino acid sequence.\n",
    "    rna_to_aa=rna_aa(comp_to_rna)\n",
    "    # Return the amino acid sequence resulting from the translation.\n",
    "    return (rna_to_aa)"
   ]
  },
  {
   "cell_type": "code",
   "execution_count": 110,
   "id": "0b891dc7",
   "metadata": {},
   "outputs": [
    {
     "data": {
      "text/plain": [
       "'AAMFG'"
      ]
     },
     "execution_count": 110,
     "metadata": {},
     "output_type": "execute_result"
    }
   ],
   "source": [
    "dna_aa(\"CGTCGCTACAAACCC\", direction='same')\n"
   ]
  },
  {
   "cell_type": "markdown",
   "id": "41f727ac-8fa6-40e1-89e0-420254fc5b71",
   "metadata": {},
   "source": [
    "## 1.5 Protein annotator"
   ]
  },
  {
   "cell_type": "code",
   "execution_count": 111,
   "id": "85c58d81-1850-47ef-810f-d17893402824",
   "metadata": {},
   "outputs": [],
   "source": [
    "import minotaor\n",
    "from Bio.Seq import Seq\n",
    "from Bio.SeqRecord import SeqRecord\n",
    "\n",
    "# Replace the sequence with your own sequence\n",
    "protein = Seq(\"MALWMRLLPLLALLALWGPDPAAAFVNQHLCGSHLVEALYLVCGERGFFYTPKTRREAEDLQVGQVELGGGPGAGSLQPLALEGSLQKRGIVEQCCTSICSLYQLENYCN\")\n",
    "protein_record = SeqRecord(protein, id=\"AAA59172.1\", annotations={\"molecule_type\": \"protein\"})\n",
    "\n",
    "protein_record = minotaor.annotate_record(protein_record)  # search is case sensitive"
   ]
  },
  {
   "cell_type": "code",
   "execution_count": 112,
   "id": "f1fe9ae5-0af3-49b8-9d1d-5abd8007ea60",
   "metadata": {},
   "outputs": [
    {
     "data": {
      "text/plain": [
       "SeqRecord(seq=Seq('MALWMRLLPLLALLALWGPDPAAAFVNQHLCGSHLVEALYLVCGERGFFYTPKT...YCN'), id='AAA59172.1', name='<unknown name>', description='<unknown description>', dbxrefs=[])"
      ]
     },
     "execution_count": 112,
     "metadata": {},
     "output_type": "execute_result"
    }
   ],
   "source": [
    "protein_record"
   ]
  },
  {
   "cell_type": "code",
   "execution_count": 113,
   "id": "52ef5ec7-bb51-4c7c-b3f8-802c25c73cab",
   "metadata": {},
   "outputs": [
    {
     "data": {
      "image/png": "[encoded data removed]",
      "text/plain": [
       "<Figure size 1440x158.4 with 1 Axes>"
      ]
     },
     "metadata": {},
     "output_type": "display_data"
    }
   ],
   "source": [
    "graphic_record = minotaor.MinotaorTranslator().translate_record(protein_record)\n",
    "ax, _ = graphic_record.plot(figure_width=20, strand_in_label_threshold=7)\n",
    "graphic_record.plot_sequence(ax)"
   ]
  },
  {
   "cell_type": "markdown",
   "id": "b61409d3",
   "metadata": {},
   "source": [
    "It shows the sequence of amino acids and an indication of the start codons \"ATG\". And there seems no stop condon in this aminoacid sequence."
   ]
  },
  {
   "cell_type": "markdown",
   "id": "6bafe9c4-3188-427b-a82a-5e36eaefddd5",
   "metadata": {},
   "source": [
    "# Task 2: Wrapping it all together with raw data"
   ]
  },
  {
   "cell_type": "markdown",
   "id": "7bed74b2-8ce6-47e5-a346-0be124647b17",
   "metadata": {},
   "source": [
    "2.1 Write a function that reads the fastq file and extracts all sequences that have a quality scores above Q10."
   ]
  },
  {
   "cell_type": "code",
   "execution_count": 114,
   "id": "de25d5b7",
   "metadata": {},
   "outputs": [],
   "source": [
    "def extract_seqs(fasta_file_path):\n",
    "    \"\"\"Extracts sequences from a fasta file path if the quality of all bases is >= Q10\"\"\"\n",
    "    # Initialize an empty dictionary to hold sequence IDs and their corresponding sequences and quality strings.\n",
    "    sequences={}\n",
    "    # Initialize a counter to keep track of the line number within a record.\n",
    "    i=1\n",
    "    # Variables to hold the current record's ID, sequence, and quality.\n",
    "    current_id=None\n",
    "    current_sequence=None\n",
    "    current_quality=None\n",
    "     # Open the FASTQ file for reading.\n",
    "    with open(fasta_file_path,'r') as file:\n",
    "        # Iterate over each line in the file.\n",
    "        for line in file:\n",
    "            # Strip the newline character from the end of the line.\n",
    "            line=line.strip()\n",
    "            # If the line is the first in a 4-line record, it contains the sequence ID.\n",
    "            if i%4==1:\n",
    "                # Extract the sequence ID (ignoring the initial '@' character).\n",
    "                # Reset the current sequence and quality to None for the new record.\n",
    "                current_id=line[1:]\n",
    "                current_sequence=None\n",
    "                current_quality=None\n",
    "            # If the line is the second in a 4-line record, it contains the sequence.\n",
    "            elif i%4==2:\n",
    "                current_sequence=line\n",
    "            # If the line is the fourth in a 4-line record, it contains the quality scores.\n",
    "            elif i%4==0:\n",
    "                current_quality=line\n",
    "            # If both the current sequence and quality are not None, proceed to check the quality.   \n",
    "            if current_sequence!=None and current_quality!=None :\n",
    "                 # Check if all quality scores are >= Q10 using ASCII conversion.\n",
    "                if all(ord(q)-33>=10 for q in current_quality):\n",
    "                    # If the quality is sufficient, add the sequence ID and a list of\n",
    "                        # the sequence and quality to the dictionary.\n",
    "                    sequences[current_id]=[current_sequence,current_quality]\n",
    "            # Increment the line counter.\n",
    "            i+=1\n",
    "    # Return the dictionary of sequences and qualities.            \n",
    "    return(sequences)"
   ]
  },
  {
   "cell_type": "code",
   "execution_count": 120,
   "id": "43703aeb",
   "metadata": {},
   "outputs": [],
   "source": [
    "sequence_dic=extract_seqs('sample10000.fastq')\n",
    "sequence_dic\n"
   ]
  },
  {
   "cell_type": "code",
   "execution_count": 116,
   "id": "eae5e368-def6-41a6-974e-f37c86fb7ce3",
   "metadata": {},
   "outputs": [],
   "source": [
    "class Genome:\n",
    "    \"\"\"\n",
    "    Read, store, and analyze the contents of a genome from a FASTA file\n",
    "    \"\"\"\n",
    "    def __init__(self, filepath):\n",
    "        # Constructor for the Genome class, initializes dictionaries to store sequences.\n",
    "        self.filepath = filepath# Path to the FASTA file\n",
    "        self.dna_seqs ={}# Dictionary to store DNA sequences\n",
    "        self.dna_complementary_seqs = {}# Dictionary to store complementary DNA sequences\n",
    "        self.rna_seqs = {}# Dictionary to store RNA sequences\n",
    "        self.aa_seqs = {}# Dictionary to store amino acid sequences\n",
    "    \n",
    "    # UPDATE THE FOLLOWING FUNCTIONS TO POPULATE THE ABOVE PROPERTIES\n",
    "    def extract_seqs(self):\n",
    "        # Extract DNA sequences from a FASTA file.\n",
    "        i=1# Initialize a line counter\n",
    "        current_id=None# Initialize a variable for the current sequence ID\n",
    "        current_sequence=None # Initialize a variable for the current DNA sequence\n",
    "        current_quality=None# Initialize a variable for the current quality scores\n",
    "        with open(self.filepath,'r') as file:# Open the FASTA file for reading\n",
    "            for line in file:# Loop through each line in the file\n",
    "                line=line.strip() # Remove any whitespace from the ends of the line\n",
    "                if i%4==1:# If the line is an ID line (every 4th line starting from the first)\n",
    "                    current_id=line[1:]# Capture the ID, excluding the '>' character\n",
    "                     # Reset the sequence and quality for the new entry\n",
    "                    current_sequence=None\n",
    "                    current_quality=None\n",
    "                elif i%4==2:# If the line is a sequence line (every 4th line starting from the second)\n",
    "                     # Capture the DNA sequence\n",
    "                    current_sequence=line\n",
    "                elif i%4==0:# If the line is a quality line (every 4th line)\n",
    "                    \n",
    "                    current_quality=line# Capture the quality scores\n",
    "\n",
    "                if current_sequence!=None and current_quality!=None :\n",
    "                    # Check that all quality scores are above a threshold (10 after ASCII adjustment)\n",
    "                    if all(ord(q)-33>=10 for q in current_quality):\n",
    "                        self.dna_seqs[current_id]=current_sequence\n",
    "                # Increment the line counter\n",
    "                i+=1\n",
    "\n",
    "    \n",
    "    def complementary_seqs(self):\n",
    "         # Generate complementary sequences for the DNA sequences stored.\n",
    "        if not self.dna_seqs:\n",
    "            raise ValueError(\"The sequence is empty!\") # If dna_seqs is empty, raise an error\n",
    "        else:\n",
    "            for seq_id,seq in self.dna_seqs.items():\n",
    "                #Set a parameter 'new_str' to storage the generated complementary sequence.\n",
    "                new_str=''\n",
    "                #According to the complementarity principle generates the new string.\n",
    "                #Here we use the ascII table to transfer the  character\n",
    "                #In ASCII table, whether the character is upper case or lower case, there substraction is constant.\n",
    "                #Thus We just need one if statement to transfer for example G to C or g to c.\n",
    "                #The ord can transfer character to number and chr transfer number to character in ASCII.\n",
    "                for s in range(0,len(seq)):\n",
    "                    if seq[s].upper()==\"G\":\n",
    "                        new_str=new_str+ chr(ord(seq[s])-4)\n",
    "                    elif seq[s].upper()==\"C\":\n",
    "                        new_str=new_str+chr(ord(seq[s])+4)\n",
    "                    elif seq[s].upper()==\"A\":\n",
    "                        new_str=new_str+chr(ord(seq[s])+19)\n",
    "                    elif seq[s].upper()==\"T\":\n",
    "                        new_str=new_str+chr(ord(seq[s])-19) \n",
    "                self.dna_complementary_seqs[seq_id]=new_str\n",
    "\n",
    "    def rna_seq(self):\n",
    "        # Generate RNA sequences from the complementary DNA sequences.\n",
    "        if  not self.dna_complementary_seqs:\n",
    "            raise ValueError('The sequence is empty!')\n",
    "        else:\n",
    "            for seq_id,seq in self.dna_complementary_seqs.items():\n",
    "                # Replace thymine 'T' with uracil 'U' to create the RNA sequence\n",
    "                self.rna_seqs[seq_id]=seq.replace('T','U')\n",
    "    \n",
    "    def aa_seq(self):\n",
    "        # Generate amino acid sequences from the RNA sequences.\n",
    "        if not self.rna_seqs:\n",
    "            raise ValueError(\"The sequence is empty!\")\n",
    "        else:\n",
    "            #Need to define a dictionary of triplet to amino acid mappings.\n",
    "            codon_table = {\n",
    "            \"UUU\": \"F\", \"UUC\": \"F\", \"UUA\": \"L\", \"UUG\": \"L\",\n",
    "            \"CUU\": \"L\", \"CUC\": \"L\", \"CUA\": \"L\", \"CUG\": \"L\",\n",
    "            \"AUU\": \"I\", \"AUC\": \"I\", \"AUA\": \"I\", \"AUG\": \"M\",\n",
    "            \"GUU\": \"V\", \"GUC\": \"V\", \"GUA\": \"V\", \"GUG\": \"V\",\n",
    "            \"UCU\": \"S\", \"UCC\": \"S\", \"UCA\": \"S\", \"UCG\": \"S\",\n",
    "            \"CCU\": \"P\", \"CCC\": \"P\", \"CCA\": \"P\", \"CCG\": \"P\",\n",
    "            \"ACU\": \"T\", \"ACC\": \"T\", \"ACA\": \"T\", \"ACG\": \"T\",\n",
    "            \"GCU\": \"A\", \"GCC\": \"A\", \"GCA\": \"A\", \"GCG\": \"A\",\n",
    "            \"UAU\": \"Y\", \"UAC\": \"Y\", \"UAA\": \"*\", \"UAG\": \"*\",\n",
    "            \"CAU\": \"H\", \"CAC\": \"H\", \"CAA\": \"Q\", \"CAG\": \"Q\",\n",
    "            \"AAU\": \"N\", \"AAC\": \"N\", \"AAA\": \"K\", \"AAG\": \"K\",\n",
    "            \"GAU\": \"D\", \"GAC\": \"D\", \"GAA\": \"E\", \"GAG\": \"E\",\n",
    "            \"UGU\": \"C\", \"UGC\": \"C\", \"UGA\": \"*\", \"UGG\": \"W\",\n",
    "            \"CGU\": \"R\", \"CGC\": \"R\", \"CGA\": \"R\", \"CGG\": \"R\",\n",
    "            \"AGU\": \"S\", \"AGC\": \"S\", \"AGA\": \"R\", \"AGG\": \"R\",\n",
    "            \"GGU\": \"G\", \"GGC\": \"G\", \"GGA\": \"G\", \"GGG\": \"G\"}\n",
    "            for seq_id,seq in self.rna_seqs.items():\n",
    "                amino_acids=''# Initialize a string to hold the amino acid sequence\n",
    "                i=0\n",
    "                 # Loop through the sequence in triplets to translate into amino acids\n",
    "                while i+3<=len(seq):\n",
    "                    codon =seq[i:i+3]# Extract the codon (triplet)\n",
    "                    # Translate the codon and append the amino acid to the sequence\n",
    "                    if codon in codon_table:\n",
    "                        amino_acids+=codon_table[codon]\n",
    "                    i+=3# Move to the next codon\n",
    "                # Store the amino acid sequence in the dictionary\n",
    "                self.aa_seqs[seq_id]=amino_acids\n",
    "                \n",
    "                \n",
    "    def annot_aa_plot(self, seqid):\n",
    "        if not self.aa_seqs:\n",
    "            raise ValueError(\"The sequence is empty!\")\n",
    "        else:\n",
    "            seq=self.aa_seqs[seqid]\n",
    "            # Create a SeqRecord object for the sequence\n",
    "            protein = Seq(seq)\n",
    "            protein_record = SeqRecord(protein, id=seqid, annotations={\"molecule_type\": \"protein\"})\n",
    "\n",
    "            protein_record = minotaor.annotate_record(protein_record)  # search is case sensitive\n",
    "            # Create a graphical representation of the annotations\n",
    "            graphic_record = minotaor.MinotaorTranslator().translate_record(protein_record)\n",
    "            # Plot the annotations and the sequence itself\n",
    "            ax, _ = graphic_record.plot(figure_width=20, strand_in_label_threshold=7)\n",
    "            graphic_record.plot_sequence(ax)"
   ]
  },
  {
   "cell_type": "code",
   "execution_count": 117,
   "id": "717ef5f0",
   "metadata": {},
   "outputs": [],
   "source": [
    "genome = Genome('sample10000.fastq')"
   ]
  },
  {
   "cell_type": "code",
   "execution_count": 118,
   "id": "5d59f123",
   "metadata": {},
   "outputs": [],
   "source": [
    "genome.extract_seqs()\n",
    "genome.complementary_seqs()\n",
    "genome.rna_seq()\n",
    "genome.aa_seq()\n"
   ]
  },
  {
   "cell_type": "code",
   "execution_count": 119,
   "id": "76b68fdb",
   "metadata": {},
   "outputs": [
    {
     "data": {
      "image/png": "[encoded data removed]",
      "text/plain": [
       "<Figure size 1440x158.4 with 1 Axes>"
      ]
     },
     "metadata": {},
     "output_type": "display_data"
    }
   ],
   "source": [
    "genome.annot_aa_plot('ERR016162.11626500 I354_1:1:39:2011:16189/2')"
   ]
  }
 ],
 "metadata": {
  "kernelspec": {
   "display_name": "Python 3 (ipykernel)",
   "language": "python",
   "name": "python3"
  },
  "language_info": {
   "codemirror_mode": {
    "name": "ipython",
    "version": 3
   },
   "file_extension": ".py",
   "mimetype": "text/x-python",
   "name": "python",
   "nbconvert_exporter": "python",
   "pygments_lexer": "ipython3",
   "version": "3.9.12"
  }
 },
 "nbformat": 4,
 "nbformat_minor": 5
}
