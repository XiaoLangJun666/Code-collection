{
 "cells": [
  {
   "cell_type": "markdown",
   "id": "2b426601",
   "metadata": {},
   "source": [
    "# Problem 1"
   ]
  },
  {
   "cell_type": "code",
   "execution_count": 6,
   "id": "12d9cd35",
   "metadata": {},
   "outputs": [],
   "source": [
    "str_1='GATTACA'"
   ]
  },
  {
   "cell_type": "code",
   "execution_count": 7,
   "id": "fbf63e9e",
   "metadata": {},
   "outputs": [],
   "source": [
    "def comp_seq (seq):\n",
    "    # set a parameter to test if the input is available\n",
    "    rnd = True\n",
    "    # set a for loop to look through each character in the sequence. \n",
    "    #Here use the seq.upper() to distinguish the unavailable input that contains lower case to not nucleotide character. \n",
    "    for s in seq.upper():\n",
    "            #If the character is not A or T or C or G, set the parameter 'rnd' to false indicate the input is unavailable \n",
    "            #which contain none-nucleotide character.\n",
    "            if s !=\"A\" and s !=\"T\" and s!=\"C\" and s!='G':\n",
    "                rnd =False\n",
    "    #If statement to judge whethter the input contain non-nucleotide character. \n",
    "    if rnd==True:\n",
    "        #Through conparaing the upper case of sequence with seq to detect whether there is lower case nucleotide character.\n",
    "        if seq.upper()!=seq:\n",
    "            #Ask the user to input sequence with upper case nucleotide character.\n",
    "            return(\"Please enter a valid sequence with upper case or try function comp_seq_up_or_low!\")\n",
    "        else:\n",
    "            #Set a parameter 'new_str' to storage the generated complementary sequence.  \n",
    "            new_str=''\n",
    "            #for loop to look through each character in sequence.\n",
    "            for s in range(0,len(seq)):\n",
    "                #According to the complementarity principle generates the new string.\n",
    "                if seq[s]==\"G\":\n",
    "                    new_str=new_str+\"C\"\n",
    "                elif seq[s]==\"C\":\n",
    "                    new_str=new_str+\"G\"\n",
    "                elif seq[s]==\"A\":\n",
    "                    new_str=new_str+\"T\"\n",
    "                elif seq[s]==\"T\":\n",
    "                    new_str=new_str+\"A\"\n",
    "            #show the new generated complementray sequence.\n",
    "            return ('The complementary sequence of the input is: ' +'\\''+new_str+'\\' ')\n",
    "    else: \n",
    "        #Ask the user to input sequence with nucleotide character.\n",
    "        return('Please enter a valid sequence with specific nucleotide character A, C, G, T!')  "
   ]
  },
  {
   "cell_type": "code",
   "execution_count": 8,
   "id": "6e9f22ea",
   "metadata": {
    "scrolled": true
   },
   "outputs": [
    {
     "data": {
      "text/plain": [
       "\"The complementary sequence of the input is: 'CTAATGT' \""
      ]
     },
     "execution_count": 8,
     "metadata": {},
     "output_type": "execute_result"
    }
   ],
   "source": [
    "comp_seq(str_1)"
   ]
  },
  {
   "cell_type": "code",
   "execution_count": 9,
   "id": "a0096f13",
   "metadata": {},
   "outputs": [],
   "source": [
    "def comp_seq_up_or_low (seq):\n",
    "    # set a parameter to test if the input is available\n",
    "    rnd = True\n",
    "    # set a for loop to look through each character in the sequence. Here use the seq.upper() \n",
    "    #to distinguish the unavailable input that contains lower case to not nucleotide character. \n",
    "    for s in seq.upper():\n",
    "            #If the character is not A or T or C or G, set the parameter 'rnd' to false indicate the input is unavailable \n",
    "            #which contain none-nucleotide character.\n",
    "            if s !=\"A\" and s !=\"T\" and s!=\"C\" and s!='G':             \n",
    "                rnd =False\n",
    "    #If statement to judge whethter the input contain non-nucleotide character.\n",
    "    if rnd==True:\n",
    "        #Set a parameter 'new_str' to storage the generated complementary sequence.  \n",
    "        new_str=''\n",
    "        #for loop to look through each character in sequence.\n",
    "        for s in range(0,len(seq)):\n",
    "            #According to the complementarity principle generates the new string.\n",
    "            #Here we use the ascII table to transfer the  character\n",
    "            #In ASCII table, whether the character is upper case or lower case, there substraction is constant.\n",
    "            #Thus We just need one if statement to transfer for example G to C or g to c.\n",
    "            #The ord can transfer character to number and chr transfer number to character in ASCII.\n",
    "            if seq[s].upper()==\"G\":\n",
    "                new_str=new_str+ chr(ord(seq[s])-4)\n",
    "            elif seq[s].upper()==\"C\":\n",
    "                new_str=new_str+chr(ord(seq[s])+4)\n",
    "            elif seq[s].upper()==\"A\":\n",
    "                new_str=new_str+chr(ord(seq[s])+19)\n",
    "            elif seq[s].upper()==\"T\":\n",
    "                new_str=new_str+chr(ord(seq[s])-19)\n",
    "          #show the new generated complementray sequence.      \n",
    "        return ('The complementary sequence of the input is: ' +'\\''+new_str+'\\' ')\n",
    "    else:\n",
    "        #Ask the user to input sequence with nucleotide character.\n",
    "        return('Please enter a valid sequence with specific upper character A, C, G, T or lower case!')"
   ]
  },
  {
   "cell_type": "code",
   "execution_count": 10,
   "id": "a5107059",
   "metadata": {
    "scrolled": true
   },
   "outputs": [
    {
     "data": {
      "text/plain": [
       "\"The complementary sequence of the input is: 'CTAATGT' \""
      ]
     },
     "execution_count": 10,
     "metadata": {},
     "output_type": "execute_result"
    }
   ],
   "source": [
    "comp_seq_up_or_low(str_1)"
   ]
  },
  {
   "cell_type": "code",
   "execution_count": 11,
   "id": "470245da",
   "metadata": {},
   "outputs": [],
   "source": [
    "# add a new parameter 'direction'.\n",
    "def comp_seq_binary (seq,direction='same'):\n",
    "    # set a parameter to test if the input is available\n",
    "    rnd = True\n",
    "    # set a for loop to look through each character in the sequence. Here use the seq.upper() to distinguish the unavailable input\n",
    "    #that contains lower case to not nucleotide character. \n",
    "    for s in seq.upper():\n",
    "            #If the character is not A or T or C or G, set the parameter 'rnd' to false indicate the input is unavailable \n",
    "            #which contain none-nucleotide character.\n",
    "            if s !=\"A\" and s !=\"T\" and s!=\"C\" and s!='G':\n",
    "                rnd =False\n",
    "    #If statement to judge whethter the input contain non-nucleotide character.\n",
    "    if rnd==True:\n",
    "        #If statement to judge whether the input parameter is the same direction or reverse.\n",
    "        if direction=='same':\n",
    "            #Set a parameter 'new_str' to storage the generated complementary sequence.\n",
    "            new_str=''\n",
    "            #According to the complementarity principle generates the new string.\n",
    "            #Here we use the ascII table to transfer the  character\n",
    "            #In ASCII table, whether the character is upper case or lower case, there substraction is constant.\n",
    "            #Thus We just need one if statement to transfer for example G to C or g to c.\n",
    "            #The ord can transfer character to number and chr transfer number to character in ASCII.\n",
    "            for s in range(0,len(seq)):\n",
    "                if seq[s].upper()==\"G\":\n",
    "                    new_str=new_str+ chr(ord(seq[s])-4)\n",
    "                elif seq[s].upper()==\"C\":\n",
    "                    new_str=new_str+chr(ord(seq[s])+4)\n",
    "                elif seq[s].upper()==\"A\":\n",
    "                    new_str=new_str+chr(ord(seq[s])+19)\n",
    "                elif seq[s].upper()==\"T\":\n",
    "                    new_str=new_str+chr(ord(seq[s])-19) \n",
    "            return ('The complementary sequence of the input is: ' +'\\''+new_str+'\\' ')\n",
    "        \n",
    "        elif direction ==\"reverse\":\n",
    "            #Set a parameter 'new_str' to storage the generated complementary sequence.\n",
    "            new_str=''\n",
    "            #Set a parameter 'long' to indicate the position of the last character.\n",
    "            long=len(seq)-1\n",
    "            \n",
    "            #According to the complementarity principle generates the new string.\n",
    "            #Here we use the ascII table to transfer the  character\n",
    "            #In ASCII table, whether the character is upper case or lower case, there substraction is constant.\n",
    "            #Thus We just need one if statement to transfer for example G to C or g to c.\n",
    "            #The ord can transfer character to number and chr transfer number to character in ASCII.\n",
    "            \n",
    "            for s in range(0,len(seq)):\n",
    "                # long-s indicate the corresponding position of reverse sequence and same sequence\n",
    "                if seq[long-s].upper()==\"G\":\n",
    "                    new_str=new_str+ chr(ord(seq[long-s])-4)\n",
    "                elif seq[long-s].upper()==\"C\":\n",
    "                    new_str=new_str+chr(ord(seq[long-s])+4)\n",
    "                elif seq[long-s].upper()==\"A\":\n",
    "                    new_str=new_str+chr(ord(seq[long-s])+19)\n",
    "                elif seq[long-s].upper()==\"T\":\n",
    "                    new_str=new_str+chr(ord(seq[long-s])-19) \n",
    "            return ('The complementary sequence of the input is: ' +'\\''+new_str+'\\' ')\n",
    "    else:\n",
    "        return('Please enter a valid sequence with specific upper character A, C, G, T or lower case!')"
   ]
  },
  {
   "cell_type": "code",
   "execution_count": 12,
   "id": "8038ca37",
   "metadata": {
    "scrolled": false
   },
   "outputs": [
    {
     "data": {
      "text/plain": [
       "\"The complementary sequence of the input is: 'TGTAATC' \""
      ]
     },
     "execution_count": 12,
     "metadata": {},
     "output_type": "execute_result"
    }
   ],
   "source": [
    "comp_seq_binary(str_1,direction='reverse')"
   ]
  },
  {
   "cell_type": "markdown",
   "id": "bb995683",
   "metadata": {},
   "source": [
    "# Problem 2"
   ]
  },
  {
   "cell_type": "code",
   "execution_count": 13,
   "id": "4af58529",
   "metadata": {},
   "outputs": [
    {
     "name": "stdout",
     "output_type": "stream",
     "text": [
      "Please enter a number: 12\n",
      "The number  12  is not a prime number!\n"
     ]
    }
   ],
   "source": [
    "#Use try to identify whether the input is a number or not. If False, tell user to enter a available number.\n",
    "try:\n",
    "    num=input('Please enter a number: ')\n",
    "    #If the input is not a number, the float()function will report the error and turn in to the 'expect' statement\n",
    "    new_num=float(num)\n",
    "    #Set if statement. The first condition detect whether the number is a interger or not, \n",
    "    #The second condition detect whether the number is larger or equal to 2, \n",
    "    #because the definition of a prime number is a whole number greater than 1 that has only two positive divisors: 1 and itself. \n",
    "    if int(new_num)!=new_num or new_num<2:\n",
    "        #Ask the user to add a available input\n",
    "        print(\"Prime number must be a positive integer larger than 1! Thus \",num, ' is not a prime number!' )\n",
    "    else:\n",
    "        #Set a parameter to storage the result of determining whether the number is prime or not.\n",
    "        round=False\n",
    "        #If the square root of a number is an interger, the two divisors will be sqrt(number)\n",
    "        #If the square root is not an interger, the two divisors will > sqrt(number) or <sqrt(number)\n",
    "        #Thus we just need to look through the range from 2 to sqrt(number)\n",
    "        for i in range(2,int(new_num**0.5)+1):\n",
    "            #if the residue is 0, it indicate that there has other divisors than 1 and the itself.\n",
    "            if new_num%i==0:\n",
    "                round= True\n",
    "    \n",
    "        if round==True:\n",
    "            print('The number ',num,\" is not a prime number!\")\n",
    "        else:\n",
    "            print('The number ',num,\" is a prime number!\")\n",
    "    \n",
    "except:\n",
    "    #Tell user to enter a number.\n",
    "    print(\"Please enter a available number!\")"
   ]
  },
  {
   "cell_type": "markdown",
   "id": "32846938",
   "metadata": {},
   "source": [
    "# Problem 3"
   ]
  },
  {
   "cell_type": "code",
   "execution_count": 14,
   "id": "949349f8",
   "metadata": {},
   "outputs": [
    {
     "name": "stdout",
     "output_type": "stream",
     "text": [
      "Enter a number to compute its square root: 124\n",
      "The square root of 124 is approximately: 11.135528727454997\n"
     ]
    }
   ],
   "source": [
    "#Definite the sqrt function with two parameter y, and a default tol=1e-6\n",
    "def sqrt(y,tol=1e-6):\n",
    "    # Initial guess\n",
    "    x = y/ 2.0\n",
    "    #Calculate the relative error between initial guess and y.\n",
    "    relative_error=abs(x**2-y)/y\n",
    "    #use a while loop to iterate the x according to the Heron's algorithms\n",
    "    while relative_error>tol:\n",
    "        #Update the x according to the Heron's algorithms\n",
    "        x=0.5*(x+y/x)\n",
    "        #Update the current relative deviation\n",
    "        relative_error=abs(x**2-y)/y\n",
    "        \n",
    "    return x\n",
    "\n",
    "\n",
    "\n",
    "# Ask the user for input\n",
    "user_input = input(\"Enter a number to compute its square root: \")\n",
    "#Use try to detect whether the input is legal\n",
    "try:\n",
    "    num=float(user_input)\n",
    "    #set if statement to detect whether the input is less than 0.\n",
    "    if num<0:\n",
    "        print(\"Negative number doesn't have a square root!\")\n",
    "    else:\n",
    "        # Compute the square root\n",
    "        computed_sqrt = sqrt(num)\n",
    "        #print out the estimated square root for y undering the condition of col.\n",
    "        print(\"The square root of\",user_input,\"is approximately:\",str(computed_sqrt))\n",
    "except:\n",
    "    #Ask user to enter a available number \n",
    "    print(\"Please enter a available number!\")"
   ]
  }
 ],
 "metadata": {
  "kernelspec": {
   "display_name": "Python 3 (ipykernel)",
   "language": "python",
   "name": "python3"
  },
  "language_info": {
   "codemirror_mode": {
    "name": "ipython",
    "version": 3
   },
   "file_extension": ".py",
   "mimetype": "text/x-python",
   "name": "python",
   "nbconvert_exporter": "python",
   "pygments_lexer": "ipython3",
   "version": "3.9.12"
  }
 },
 "nbformat": 4,
 "nbformat_minor": 5
}
